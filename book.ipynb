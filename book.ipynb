{
 "cells": [
  {
   "cell_type": "markdown",
   "metadata": {},
   "source": [
    "* *Before running this notebook in local, consider the RAM capacity and cores' number of your laptop since the processes which are performed, are memory and CPU intensive.*"
   ]
  },
  {
   "cell_type": "markdown",
   "metadata": {},
   "source": [
    "# 1. Loading required libraries"
   ]
  },
  {
   "cell_type": "code",
   "execution_count": 115,
   "metadata": {},
   "outputs": [],
   "source": [
    "# Basic librairies\n",
    "import pandas as pd, numpy as np, matplotlib.pyplot as plt, seaborn as sns\n",
    "from unidecode import unidecode\n",
    "import re, gc\n",
    "\n",
    "# Machine learning librairies\n",
    "from sklearn.metrics import r2_score, mean_squared_error, mean_absolute_error\n",
    "from sklearn.model_selection import GridSearchCV, train_test_split\n",
    "from sklearn.feature_extraction.text import TfidfVectorizer\n",
    "from sklearn.ensemble import RandomForestRegressor\n",
    "from sklearn.linear_model import LinearRegression\n",
    "from sklearn.preprocessing import MinMaxScaler\n",
    "from sklearn.compose import ColumnTransformer\n",
    "from xgboost import XGBRegressor\n",
    "\n",
    "# Deep learning librairies\n",
    "from tensorflow.keras.layers import Input, Dense, Concatenate\n",
    "from transformers import BertTokenizer, TFBertModel\n",
    "from tensorflow.keras.models import Model\n",
    "import tensorflow as tf"
   ]
  },
  {
   "cell_type": "markdown",
   "metadata": {},
   "source": [
    "# 2. Loading data"
   ]
  },
  {
   "cell_type": "markdown",
   "metadata": {},
   "source": [
    "*Some corrections (bad columns' names, tabulation, ...) have been done to the data before loading it.*\n",
    "\n",
    "*During export, we let Python choose each column data types for now...*"
   ]
  },
  {
   "cell_type": "code",
   "execution_count": 62,
   "metadata": {},
   "outputs": [],
   "source": [
    "data = pd.read_csv(filepath_or_buffer=r\"books_new.csv\")"
   ]
  },
  {
   "cell_type": "markdown",
   "metadata": {},
   "source": [
    "*We display the rows, and columns.*"
   ]
  },
  {
   "cell_type": "code",
   "execution_count": 63,
   "metadata": {},
   "outputs": [
    {
     "data": {
      "text/plain": [
       "(11127, 12)"
      ]
     },
     "execution_count": 63,
     "metadata": {},
     "output_type": "execute_result"
    }
   ],
   "source": [
    "data.shape"
   ]
  },
  {
   "cell_type": "code",
   "execution_count": 64,
   "metadata": {},
   "outputs": [
    {
     "data": {
      "text/html": [
       "<div>\n",
       "<style scoped>\n",
       "    .dataframe tbody tr th:only-of-type {\n",
       "        vertical-align: middle;\n",
       "    }\n",
       "\n",
       "    .dataframe tbody tr th {\n",
       "        vertical-align: top;\n",
       "    }\n",
       "\n",
       "    .dataframe thead th {\n",
       "        text-align: right;\n",
       "    }\n",
       "</style>\n",
       "<table border=\"1\" class=\"dataframe\">\n",
       "  <thead>\n",
       "    <tr style=\"text-align: right;\">\n",
       "      <th></th>\n",
       "      <th>bookID</th>\n",
       "      <th>title</th>\n",
       "      <th>authors</th>\n",
       "      <th>average_rating</th>\n",
       "      <th>isbn</th>\n",
       "      <th>isbn13</th>\n",
       "      <th>language_code</th>\n",
       "      <th>num_pages</th>\n",
       "      <th>ratings_count</th>\n",
       "      <th>text_reviews_count</th>\n",
       "      <th>publication_date</th>\n",
       "      <th>publisher</th>\n",
       "    </tr>\n",
       "  </thead>\n",
       "  <tbody>\n",
       "    <tr>\n",
       "      <th>0</th>\n",
       "      <td>1</td>\n",
       "      <td>Harry Potter and the Half-Blood Prince (Harry ...</td>\n",
       "      <td>J.K. Rowling / Mary GrandPré</td>\n",
       "      <td>4.57</td>\n",
       "      <td>439785960</td>\n",
       "      <td>9.780000e+12</td>\n",
       "      <td>eng</td>\n",
       "      <td>652</td>\n",
       "      <td>2095690</td>\n",
       "      <td>27591</td>\n",
       "      <td>9/16/2006</td>\n",
       "      <td>Scholastic Inc.</td>\n",
       "    </tr>\n",
       "  </tbody>\n",
       "</table>\n",
       "</div>"
      ],
      "text/plain": [
       "   bookID                                              title  \\\n",
       "0       1  Harry Potter and the Half-Blood Prince (Harry ...   \n",
       "\n",
       "                        authors  average_rating       isbn        isbn13  \\\n",
       "0  J.K. Rowling / Mary GrandPré            4.57  439785960  9.780000e+12   \n",
       "\n",
       "  language_code  num_pages  ratings_count  text_reviews_count  \\\n",
       "0           eng        652        2095690               27591   \n",
       "\n",
       "  publication_date        publisher  \n",
       "0        9/16/2006  Scholastic Inc.  "
      ]
     },
     "execution_count": 64,
     "metadata": {},
     "output_type": "execute_result"
    }
   ],
   "source": [
    "data.head(1)"
   ]
  },
  {
   "cell_type": "markdown",
   "metadata": {},
   "source": [
    "# 3. Feature engineering"
   ]
  },
  {
   "cell_type": "markdown",
   "metadata": {},
   "source": [
    "*We review data types for each column (to notice if they were chosen correctly by Python or not), and eventually analyze if there are missing values.*"
   ]
  },
  {
   "cell_type": "code",
   "execution_count": 65,
   "metadata": {},
   "outputs": [
    {
     "name": "stdout",
     "output_type": "stream",
     "text": [
      "<class 'pandas.core.frame.DataFrame'>\n",
      "RangeIndex: 11127 entries, 0 to 11126\n",
      "Data columns (total 12 columns):\n",
      " #   Column              Non-Null Count  Dtype  \n",
      "---  ------              --------------  -----  \n",
      " 0   bookID              11127 non-null  int64  \n",
      " 1   title               11127 non-null  object \n",
      " 2   authors             11127 non-null  object \n",
      " 3   average_rating      11127 non-null  float64\n",
      " 4   isbn                11127 non-null  object \n",
      " 5   isbn13              11127 non-null  float64\n",
      " 6   language_code       11127 non-null  object \n",
      " 7   num_pages           11127 non-null  int64  \n",
      " 8   ratings_count       11127 non-null  int64  \n",
      " 9   text_reviews_count  11127 non-null  int64  \n",
      " 10  publication_date    11127 non-null  object \n",
      " 11  publisher           11127 non-null  object \n",
      "dtypes: float64(2), int64(4), object(6)\n",
      "memory usage: 1.0+ MB\n"
     ]
    }
   ],
   "source": [
    "data.info()"
   ]
  },
  {
   "cell_type": "markdown",
   "metadata": {},
   "source": [
    "*We try to understand the meaning behind the values in the dataset.*"
   ]
  },
  {
   "cell_type": "code",
   "execution_count": 66,
   "metadata": {},
   "outputs": [
    {
     "data": {
      "text/html": [
       "<div>\n",
       "<style scoped>\n",
       "    .dataframe tbody tr th:only-of-type {\n",
       "        vertical-align: middle;\n",
       "    }\n",
       "\n",
       "    .dataframe tbody tr th {\n",
       "        vertical-align: top;\n",
       "    }\n",
       "\n",
       "    .dataframe thead th {\n",
       "        text-align: right;\n",
       "    }\n",
       "</style>\n",
       "<table border=\"1\" class=\"dataframe\">\n",
       "  <thead>\n",
       "    <tr style=\"text-align: right;\">\n",
       "      <th></th>\n",
       "      <th>bookID</th>\n",
       "      <th>average_rating</th>\n",
       "      <th>isbn13</th>\n",
       "      <th>num_pages</th>\n",
       "      <th>ratings_count</th>\n",
       "      <th>text_reviews_count</th>\n",
       "    </tr>\n",
       "  </thead>\n",
       "  <tbody>\n",
       "    <tr>\n",
       "      <th>count</th>\n",
       "      <td>11127.000000</td>\n",
       "      <td>11127.000000</td>\n",
       "      <td>1.112700e+04</td>\n",
       "      <td>11127.000000</td>\n",
       "      <td>1.112700e+04</td>\n",
       "      <td>11127.000000</td>\n",
       "    </tr>\n",
       "    <tr>\n",
       "      <th>mean</th>\n",
       "      <td>21310.938887</td>\n",
       "      <td>3.933631</td>\n",
       "      <td>9.759178e+12</td>\n",
       "      <td>336.376921</td>\n",
       "      <td>1.793641e+04</td>\n",
       "      <td>541.854498</td>\n",
       "    </tr>\n",
       "    <tr>\n",
       "      <th>std</th>\n",
       "      <td>13093.358023</td>\n",
       "      <td>0.352445</td>\n",
       "      <td>4.428650e+11</td>\n",
       "      <td>241.127305</td>\n",
       "      <td>1.124794e+05</td>\n",
       "      <td>2576.176608</td>\n",
       "    </tr>\n",
       "    <tr>\n",
       "      <th>min</th>\n",
       "      <td>1.000000</td>\n",
       "      <td>0.000000</td>\n",
       "      <td>8.987060e+09</td>\n",
       "      <td>0.000000</td>\n",
       "      <td>0.000000e+00</td>\n",
       "      <td>0.000000</td>\n",
       "    </tr>\n",
       "    <tr>\n",
       "      <th>25%</th>\n",
       "      <td>10287.000000</td>\n",
       "      <td>3.770000</td>\n",
       "      <td>9.780000e+12</td>\n",
       "      <td>192.000000</td>\n",
       "      <td>1.040000e+02</td>\n",
       "      <td>9.000000</td>\n",
       "    </tr>\n",
       "    <tr>\n",
       "      <th>50%</th>\n",
       "      <td>20287.000000</td>\n",
       "      <td>3.960000</td>\n",
       "      <td>9.780000e+12</td>\n",
       "      <td>299.000000</td>\n",
       "      <td>7.450000e+02</td>\n",
       "      <td>46.000000</td>\n",
       "    </tr>\n",
       "    <tr>\n",
       "      <th>75%</th>\n",
       "      <td>32104.500000</td>\n",
       "      <td>4.135000</td>\n",
       "      <td>9.780000e+12</td>\n",
       "      <td>416.000000</td>\n",
       "      <td>4.993500e+03</td>\n",
       "      <td>237.500000</td>\n",
       "    </tr>\n",
       "    <tr>\n",
       "      <th>max</th>\n",
       "      <td>45641.000000</td>\n",
       "      <td>5.000000</td>\n",
       "      <td>9.790000e+12</td>\n",
       "      <td>6576.000000</td>\n",
       "      <td>4.597666e+06</td>\n",
       "      <td>94265.000000</td>\n",
       "    </tr>\n",
       "  </tbody>\n",
       "</table>\n",
       "</div>"
      ],
      "text/plain": [
       "             bookID  average_rating        isbn13     num_pages  \\\n",
       "count  11127.000000    11127.000000  1.112700e+04  11127.000000   \n",
       "mean   21310.938887        3.933631  9.759178e+12    336.376921   \n",
       "std    13093.358023        0.352445  4.428650e+11    241.127305   \n",
       "min        1.000000        0.000000  8.987060e+09      0.000000   \n",
       "25%    10287.000000        3.770000  9.780000e+12    192.000000   \n",
       "50%    20287.000000        3.960000  9.780000e+12    299.000000   \n",
       "75%    32104.500000        4.135000  9.780000e+12    416.000000   \n",
       "max    45641.000000        5.000000  9.790000e+12   6576.000000   \n",
       "\n",
       "       ratings_count  text_reviews_count  \n",
       "count   1.112700e+04        11127.000000  \n",
       "mean    1.793641e+04          541.854498  \n",
       "std     1.124794e+05         2576.176608  \n",
       "min     0.000000e+00            0.000000  \n",
       "25%     1.040000e+02            9.000000  \n",
       "50%     7.450000e+02           46.000000  \n",
       "75%     4.993500e+03          237.500000  \n",
       "max     4.597666e+06        94265.000000  "
      ]
     },
     "execution_count": 66,
     "metadata": {},
     "output_type": "execute_result"
    }
   ],
   "source": [
    "data.describe()"
   ]
  },
  {
   "cell_type": "markdown",
   "metadata": {},
   "source": [
    "*At this step, some facts must be taken into account for this dataset before further proceeding :*\n",
    "\n",
    "*a. The columns bookID, isbn, isbn13 won't be considered for further analysis in our context : they represented unique identifiers for each sample/row of the dataset (useful when in the context working with a relational database). Even the books' title are unique identifiers of each row, but we won't discard it since it would help later to build special machine learning models.*\n",
    "\n",
    "*b. Keeping only the year from the long date format in the column publication_date.*\n",
    "\n",
    "*c. Having average_rate, num_pages or ratings_count equal to zero is a bit troublesome.*\n",
    "\n",
    "    A book without pages (num_pages = 0)  can't be rated (ratings_count = 0), and average_rating = 0 is normal.\n",
    "    if ratings_count = 0, it means the book wasn't reviewed (maybe because num_pages = 0) so its average_rating will also be equal to 0.\n",
    "    average_rating = 0 can mean the book was rated 0 by all the reviewers (the book's subject was bad); or it can be a value meant to replace missing average_rating values; or it can also correspond to a case for ratings_count = 0 or num_pages = 0.\n",
    "\n",
    "*d. We must investigate and eventually drop the data' samples corresponding to point c; they can be outliers (special_cases).*\n",
    "\n",
    "*e. We can have text_reviews_count equal to 0 : it means that even if the book was rated, no written text/comment on the book was done by at least a reviewer.*"
   ]
  },
  {
   "cell_type": "code",
   "execution_count": 67,
   "metadata": {},
   "outputs": [
    {
     "data": {
      "text/html": [
       "<div>\n",
       "<style scoped>\n",
       "    .dataframe tbody tr th:only-of-type {\n",
       "        vertical-align: middle;\n",
       "    }\n",
       "\n",
       "    .dataframe tbody tr th {\n",
       "        vertical-align: top;\n",
       "    }\n",
       "\n",
       "    .dataframe thead th {\n",
       "        text-align: right;\n",
       "    }\n",
       "</style>\n",
       "<table border=\"1\" class=\"dataframe\">\n",
       "  <thead>\n",
       "    <tr style=\"text-align: right;\">\n",
       "      <th></th>\n",
       "      <th>title</th>\n",
       "      <th>authors</th>\n",
       "      <th>average_rating</th>\n",
       "      <th>language_code</th>\n",
       "      <th>num_pages</th>\n",
       "      <th>ratings_count</th>\n",
       "      <th>text_reviews_count</th>\n",
       "      <th>publisher</th>\n",
       "      <th>publication_year</th>\n",
       "    </tr>\n",
       "  </thead>\n",
       "  <tbody>\n",
       "    <tr>\n",
       "      <th>0</th>\n",
       "      <td>Harry Potter and the Half-Blood Prince (Harry ...</td>\n",
       "      <td>J.K. Rowling / Mary GrandPré</td>\n",
       "      <td>4.57</td>\n",
       "      <td>eng</td>\n",
       "      <td>652</td>\n",
       "      <td>2095690</td>\n",
       "      <td>27591</td>\n",
       "      <td>Scholastic Inc.</td>\n",
       "      <td>2006</td>\n",
       "    </tr>\n",
       "  </tbody>\n",
       "</table>\n",
       "</div>"
      ],
      "text/plain": [
       "                                               title  \\\n",
       "0  Harry Potter and the Half-Blood Prince (Harry ...   \n",
       "\n",
       "                        authors  average_rating language_code  num_pages  \\\n",
       "0  J.K. Rowling / Mary GrandPré            4.57           eng        652   \n",
       "\n",
       "   ratings_count  text_reviews_count        publisher  publication_year  \n",
       "0        2095690               27591  Scholastic Inc.              2006  "
      ]
     },
     "execution_count": 67,
     "metadata": {},
     "output_type": "execute_result"
    }
   ],
   "source": [
    "_ = [\"bookID\", \"isbn\", \"isbn13\"]\n",
    "df = data.drop(labels=_, axis=1, inplace=False)\n",
    "\n",
    "df[\"publication_year\"] = df[\"publication_date\"].apply(lambda x: int(x.split(\"/\")[-1]))\n",
    "del df['publication_date']\n",
    "\n",
    "df.head(1)"
   ]
  },
  {
   "cell_type": "code",
   "execution_count": 68,
   "metadata": {},
   "outputs": [
    {
     "data": {
      "text/plain": [
       "(156, 9)"
      ]
     },
     "execution_count": 68,
     "metadata": {},
     "output_type": "execute_result"
    }
   ],
   "source": [
    "# Special cases for average_rating = 0, or num_pages = 0, or ratings_count = 0\n",
    "special_cases = df[((df[\"average_rating\"]==0) | (df[\"num_pages\"]==0) | (df[\"ratings_count\"]==0))]\n",
    "special_cases.shape"
   ]
  },
  {
   "cell_type": "code",
   "execution_count": 69,
   "metadata": {},
   "outputs": [
    {
     "data": {
      "image/png": "[encoded data removed]",
      "text/plain": [
       "<Figure size 640x480 with 1 Axes>"
      ]
     },
     "metadata": {},
     "output_type": "display_data"
    }
   ],
   "source": [
    "# Investigate these special cases\n",
    "fig = plt.figure()\n",
    "ax = fig.add_subplot(111, projection='3d')\n",
    "scatter = ax.scatter(xs=special_cases[\"num_pages\"], ys=special_cases[\"ratings_count\"], zs=special_cases[\"average_rating\"])\n",
    "ax.set_xlabel('num_pages')\n",
    "ax.set_ylabel('ratings_count')\n",
    "ax.set_zlabel('average_rating')\n",
    "plt.show()"
   ]
  },
  {
   "cell_type": "markdown",
   "metadata": {},
   "source": [
    "*The special_cases dataset has some incoherent informations such as :* \n",
    "\n",
    "*Books with num_pages = 0 (x = 0) , but have ratings_count > 0 and average_rating (z > 0)*\n",
    "\n",
    "*We won't take into account these special_cases since they have some incoherent informations, and globally it's only amount 1.5% of the original dataset.*"
   ]
  },
  {
   "cell_type": "code",
   "execution_count": 70,
   "metadata": {},
   "outputs": [
    {
     "data": {
      "text/plain": [
       "(10971, 9)"
      ]
     },
     "execution_count": 70,
     "metadata": {},
     "output_type": "execute_result"
    }
   ],
   "source": [
    "# Normal cases without average_rating = 0, num_pages = 0 and ratings_count = 0\n",
    "cols = ['average_rating', 'num_pages', 'ratings_count']\n",
    "normal_cases = df.copy(deep=True)\n",
    "for col in cols:\n",
    "    normal_cases = normal_cases[~(normal_cases[col]==0)]\n",
    "del col, cols, df, scatter, ax, fig\n",
    "normal_cases.shape"
   ]
  },
  {
   "cell_type": "code",
   "execution_count": 71,
   "metadata": {},
   "outputs": [
    {
     "data": {
      "text/html": [
       "<div>\n",
       "<style scoped>\n",
       "    .dataframe tbody tr th:only-of-type {\n",
       "        vertical-align: middle;\n",
       "    }\n",
       "\n",
       "    .dataframe tbody tr th {\n",
       "        vertical-align: top;\n",
       "    }\n",
       "\n",
       "    .dataframe thead th {\n",
       "        text-align: right;\n",
       "    }\n",
       "</style>\n",
       "<table border=\"1\" class=\"dataframe\">\n",
       "  <thead>\n",
       "    <tr style=\"text-align: right;\">\n",
       "      <th></th>\n",
       "      <th>average_rating</th>\n",
       "      <th>num_pages</th>\n",
       "      <th>ratings_count</th>\n",
       "      <th>text_reviews_count</th>\n",
       "      <th>publication_year</th>\n",
       "    </tr>\n",
       "  </thead>\n",
       "  <tbody>\n",
       "    <tr>\n",
       "      <th>count</th>\n",
       "      <td>10971.000000</td>\n",
       "      <td>10971.000000</td>\n",
       "      <td>1.097100e+04</td>\n",
       "      <td>10971.000000</td>\n",
       "      <td>10971.000000</td>\n",
       "    </tr>\n",
       "    <tr>\n",
       "      <th>mean</th>\n",
       "      <td>3.943235</td>\n",
       "      <td>339.064990</td>\n",
       "      <td>1.818883e+04</td>\n",
       "      <td>549.457205</td>\n",
       "      <td>2000.183939</td>\n",
       "    </tr>\n",
       "    <tr>\n",
       "      <th>std</th>\n",
       "      <td>0.294536</td>\n",
       "      <td>240.173871</td>\n",
       "      <td>1.132562e+05</td>\n",
       "      <td>2593.630924</td>\n",
       "      <td>8.200245</td>\n",
       "    </tr>\n",
       "    <tr>\n",
       "      <th>min</th>\n",
       "      <td>1.000000</td>\n",
       "      <td>1.000000</td>\n",
       "      <td>1.000000e+00</td>\n",
       "      <td>0.000000</td>\n",
       "      <td>1900.000000</td>\n",
       "    </tr>\n",
       "    <tr>\n",
       "      <th>25%</th>\n",
       "      <td>3.780000</td>\n",
       "      <td>197.000000</td>\n",
       "      <td>1.130000e+02</td>\n",
       "      <td>10.000000</td>\n",
       "      <td>1998.000000</td>\n",
       "    </tr>\n",
       "    <tr>\n",
       "      <th>50%</th>\n",
       "      <td>3.960000</td>\n",
       "      <td>302.000000</td>\n",
       "      <td>7.810000e+02</td>\n",
       "      <td>48.000000</td>\n",
       "      <td>2003.000000</td>\n",
       "    </tr>\n",
       "    <tr>\n",
       "      <th>75%</th>\n",
       "      <td>4.140000</td>\n",
       "      <td>416.000000</td>\n",
       "      <td>5.138000e+03</td>\n",
       "      <td>244.000000</td>\n",
       "      <td>2005.000000</td>\n",
       "    </tr>\n",
       "    <tr>\n",
       "      <th>max</th>\n",
       "      <td>5.000000</td>\n",
       "      <td>6576.000000</td>\n",
       "      <td>4.597666e+06</td>\n",
       "      <td>94265.000000</td>\n",
       "      <td>2020.000000</td>\n",
       "    </tr>\n",
       "  </tbody>\n",
       "</table>\n",
       "</div>"
      ],
      "text/plain": [
       "       average_rating     num_pages  ratings_count  text_reviews_count  \\\n",
       "count    10971.000000  10971.000000   1.097100e+04        10971.000000   \n",
       "mean         3.943235    339.064990   1.818883e+04          549.457205   \n",
       "std          0.294536    240.173871   1.132562e+05         2593.630924   \n",
       "min          1.000000      1.000000   1.000000e+00            0.000000   \n",
       "25%          3.780000    197.000000   1.130000e+02           10.000000   \n",
       "50%          3.960000    302.000000   7.810000e+02           48.000000   \n",
       "75%          4.140000    416.000000   5.138000e+03          244.000000   \n",
       "max          5.000000   6576.000000   4.597666e+06        94265.000000   \n",
       "\n",
       "       publication_year  \n",
       "count      10971.000000  \n",
       "mean        2000.183939  \n",
       "std            8.200245  \n",
       "min         1900.000000  \n",
       "25%         1998.000000  \n",
       "50%         2003.000000  \n",
       "75%         2005.000000  \n",
       "max         2020.000000  "
      ]
     },
     "execution_count": 71,
     "metadata": {},
     "output_type": "execute_result"
    }
   ],
   "source": [
    "normal_cases.describe()"
   ]
  },
  {
   "cell_type": "code",
   "execution_count": 72,
   "metadata": {},
   "outputs": [],
   "source": [
    "# The original dataset becomes normal_cases\n",
    "data = normal_cases\n",
    "del normal_cases, special_cases"
   ]
  },
  {
   "cell_type": "code",
   "execution_count": 73,
   "metadata": {},
   "outputs": [
    {
     "data": {
      "text/plain": [
       "Index(['title', 'authors', 'average_rating', 'language_code', 'num_pages',\n",
       "       'ratings_count', 'text_reviews_count', 'publisher', 'publication_year'],\n",
       "      dtype='object')"
      ]
     },
     "execution_count": 73,
     "metadata": {},
     "output_type": "execute_result"
    }
   ],
   "source": [
    "data.columns"
   ]
  },
  {
   "cell_type": "markdown",
   "metadata": {},
   "source": [
    "*The dataset data has 4 qualitative, and 5 quantitative features.*\n",
    "\n",
    "        Qualitative features :  title, authors, language_code, publisher.\n",
    "        Quantitative features : average_rating, num_pages, ratings_count, text_reviews_count, publication_year."
   ]
  },
  {
   "cell_type": "markdown",
   "metadata": {},
   "source": [
    "## 4. Data analysis"
   ]
  },
  {
   "cell_type": "markdown",
   "metadata": {},
   "source": [
    "#### Qualitative features univariate analysis\n"
   ]
  },
  {
   "cell_type": "code",
   "execution_count": 74,
   "metadata": {},
   "outputs": [
    {
     "data": {
      "image/png": "[encoded data removed]",
      "text/plain": [
       "<Figure size 1000x600 with 1 Axes>"
      ]
     },
     "metadata": {},
     "output_type": "display_data"
    }
   ],
   "source": [
    "# language_code\n",
    "_ = data[\"language_code\"].value_counts()\n",
    "plt.figure(figsize=(10, 6))\n",
    "_.plot(kind='bar', color='skyblue')\n",
    "plt.title('Total number of books reviewed by language code')\n",
    "plt.xlabel('Language Code')\n",
    "plt.ylabel('Count')\n",
    "plt.xticks(rotation=45)\n",
    "plt.grid(axis='y', linestyle='--', alpha=0.7)\n",
    "plt.show()"
   ]
  },
  {
   "cell_type": "code",
   "execution_count": 75,
   "metadata": {},
   "outputs": [
    {
     "data": {
      "text/plain": [
       "0.9484094430772035"
      ]
     },
     "execution_count": 75,
     "metadata": {},
     "output_type": "execute_result"
    }
   ],
   "source": [
    "_ = ['eng', 'en-US', 'en-GB', 'en-CA']\n",
    "data[data[\"language_code\"].isin(_)].shape[0] / data.shape[0]"
   ]
  },
  {
   "cell_type": "markdown",
   "metadata": {},
   "source": [
    "*Most of the books reviewed (94.84%) in our dataset have been writen in English. This can a result of the fact that most of the reviewers' native language was English.*"
   ]
  },
  {
   "cell_type": "code",
   "execution_count": 76,
   "metadata": {},
   "outputs": [],
   "source": [
    "# authors"
   ]
  },
  {
   "cell_type": "markdown",
   "metadata": {},
   "source": []
  },
  {
   "cell_type": "code",
   "execution_count": 77,
   "metadata": {},
   "outputs": [],
   "source": [
    "# publisher"
   ]
  },
  {
   "cell_type": "markdown",
   "metadata": {},
   "source": []
  },
  {
   "cell_type": "markdown",
   "metadata": {},
   "source": [
    "#### Quantitative features univariate analysis"
   ]
  },
  {
   "cell_type": "code",
   "execution_count": 78,
   "metadata": {},
   "outputs": [
    {
     "data": {
      "text/plain": [
       "count    10971.000000\n",
       "mean      2000.183939\n",
       "std          8.200245\n",
       "min       1900.000000\n",
       "25%       1998.000000\n",
       "50%       2003.000000\n",
       "75%       2005.000000\n",
       "max       2020.000000\n",
       "Name: publication_year, dtype: float64"
      ]
     },
     "execution_count": 78,
     "metadata": {},
     "output_type": "execute_result"
    }
   ],
   "source": [
    "# publication_year\n",
    "data[\"publication_year\"].describe()"
   ]
  },
  {
   "cell_type": "markdown",
   "metadata": {},
   "source": [
    "*Only 25% of the books reviewed were written before 1998 (earlier twenties) : their publication years vary between 1900 and 1998 (a difference of 99 years).*\n",
    "\n",
    "*Another 25% were written between 1998 and 2003 (a difference of 6 years), but the most noticed fact is that books written between 2003 and 2005 (just 3 years of difference) also represented another 25%.* \n",
    "\n",
    "*The last 25% are for books written between 2005 and 2020.*"
   ]
  },
  {
   "cell_type": "code",
   "execution_count": 79,
   "metadata": {},
   "outputs": [
    {
     "data": {
      "image/png": "[encoded data removed]",
      "text/plain": [
       "<Figure size 1200x800 with 4 Axes>"
      ]
     },
     "metadata": {},
     "output_type": "display_data"
    }
   ],
   "source": [
    "# average_rating, num_pages, ratings_count, text_reviews_count\n",
    "fig, axs = plt.subplots(2, 2, figsize=(12, 8))\n",
    "axs[0, 0].hist(data['average_rating'], bins=20, color='skyblue', edgecolor='black')\n",
    "axs[0, 0].set_title('Average Rating')\n",
    "axs[0, 1].hist(data['num_pages'], bins=20, color='salmon', edgecolor='black')\n",
    "axs[0, 1].set_title('Number of Pages')\n",
    "axs[1, 0].hist(data['ratings_count'], bins=20, color='green', edgecolor='black')\n",
    "axs[1, 0].set_title('Ratings Count')\n",
    "axs[1, 1].hist(data['text_reviews_count'], bins=20, color='purple', edgecolor='black')\n",
    "axs[1, 1].set_title('Text Reviews Count')\n",
    "\n",
    "fig.suptitle('Distributions')\n",
    "\n",
    "plt.tight_layout()\n",
    "plt.show()"
   ]
  },
  {
   "cell_type": "code",
   "execution_count": 80,
   "metadata": {},
   "outputs": [],
   "source": [
    "del fig, axs"
   ]
  },
  {
   "cell_type": "code",
   "execution_count": 81,
   "metadata": {},
   "outputs": [
    {
     "data": {
      "text/html": [
       "<div>\n",
       "<style scoped>\n",
       "    .dataframe tbody tr th:only-of-type {\n",
       "        vertical-align: middle;\n",
       "    }\n",
       "\n",
       "    .dataframe tbody tr th {\n",
       "        vertical-align: top;\n",
       "    }\n",
       "\n",
       "    .dataframe thead th {\n",
       "        text-align: right;\n",
       "    }\n",
       "</style>\n",
       "<table border=\"1\" class=\"dataframe\">\n",
       "  <thead>\n",
       "    <tr style=\"text-align: right;\">\n",
       "      <th></th>\n",
       "      <th>average_rating</th>\n",
       "      <th>num_pages</th>\n",
       "      <th>ratings_count</th>\n",
       "      <th>text_reviews_count</th>\n",
       "    </tr>\n",
       "  </thead>\n",
       "  <tbody>\n",
       "    <tr>\n",
       "      <th>count</th>\n",
       "      <td>10971.000000</td>\n",
       "      <td>10971.000000</td>\n",
       "      <td>1.097100e+04</td>\n",
       "      <td>10971.000000</td>\n",
       "    </tr>\n",
       "    <tr>\n",
       "      <th>mean</th>\n",
       "      <td>3.943235</td>\n",
       "      <td>339.064990</td>\n",
       "      <td>1.818883e+04</td>\n",
       "      <td>549.457205</td>\n",
       "    </tr>\n",
       "    <tr>\n",
       "      <th>std</th>\n",
       "      <td>0.294536</td>\n",
       "      <td>240.173871</td>\n",
       "      <td>1.132562e+05</td>\n",
       "      <td>2593.630924</td>\n",
       "    </tr>\n",
       "    <tr>\n",
       "      <th>min</th>\n",
       "      <td>1.000000</td>\n",
       "      <td>1.000000</td>\n",
       "      <td>1.000000e+00</td>\n",
       "      <td>0.000000</td>\n",
       "    </tr>\n",
       "    <tr>\n",
       "      <th>25%</th>\n",
       "      <td>3.780000</td>\n",
       "      <td>197.000000</td>\n",
       "      <td>1.130000e+02</td>\n",
       "      <td>10.000000</td>\n",
       "    </tr>\n",
       "    <tr>\n",
       "      <th>50%</th>\n",
       "      <td>3.960000</td>\n",
       "      <td>302.000000</td>\n",
       "      <td>7.810000e+02</td>\n",
       "      <td>48.000000</td>\n",
       "    </tr>\n",
       "    <tr>\n",
       "      <th>75%</th>\n",
       "      <td>4.140000</td>\n",
       "      <td>416.000000</td>\n",
       "      <td>5.138000e+03</td>\n",
       "      <td>244.000000</td>\n",
       "    </tr>\n",
       "    <tr>\n",
       "      <th>max</th>\n",
       "      <td>5.000000</td>\n",
       "      <td>6576.000000</td>\n",
       "      <td>4.597666e+06</td>\n",
       "      <td>94265.000000</td>\n",
       "    </tr>\n",
       "  </tbody>\n",
       "</table>\n",
       "</div>"
      ],
      "text/plain": [
       "       average_rating     num_pages  ratings_count  text_reviews_count\n",
       "count    10971.000000  10971.000000   1.097100e+04        10971.000000\n",
       "mean         3.943235    339.064990   1.818883e+04          549.457205\n",
       "std          0.294536    240.173871   1.132562e+05         2593.630924\n",
       "min          1.000000      1.000000   1.000000e+00            0.000000\n",
       "25%          3.780000    197.000000   1.130000e+02           10.000000\n",
       "50%          3.960000    302.000000   7.810000e+02           48.000000\n",
       "75%          4.140000    416.000000   5.138000e+03          244.000000\n",
       "max          5.000000   6576.000000   4.597666e+06        94265.000000"
      ]
     },
     "execution_count": 81,
     "metadata": {},
     "output_type": "execute_result"
    }
   ],
   "source": [
    "data[['average_rating', 'num_pages', 'ratings_count', 'text_reviews_count']].describe()"
   ]
  },
  {
   "cell_type": "markdown",
   "metadata": {},
   "source": [
    "*The num_pages, ratings_count, text_reviews_count have right skewed distributions. High values seems to be present after third quartile especially for ratings_count and text_reviews_count, this can be an explanation to why these two distributions' means are greater than their third quartiles. Generally for all these distributions, the max value is really high : it amounts at least 15 times the third quartile.*\n",
    "\n",
    "*The average_rating tends to be symetric (which is the reason why the mean and the median are very close) and less skewed.*"
   ]
  },
  {
   "cell_type": "markdown",
   "metadata": {},
   "source": [
    "#### Qualitative features multivariate analysis"
   ]
  },
  {
   "cell_type": "code",
   "execution_count": 82,
   "metadata": {},
   "outputs": [
    {
     "name": "stderr",
     "output_type": "stream",
     "text": [
      "C:\\Users\\acoue\\AppData\\Local\\Temp\\ipykernel_24068\\403249147.py:3: FutureWarning: \n",
      "\n",
      "Passing `palette` without assigning `hue` is deprecated and will be removed in v0.14.0. Assign the `x` variable to `hue` and set `legend=False` for the same effect.\n",
      "\n",
      "  sns.boxplot(x=data['language_code'], y=data['average_rating'], palette='viridis')\n"
     ]
    },
    {
     "data": {
      "image/png": "[encoded data removed]",
      "text/plain": [
       "<Figure size 1000x600 with 1 Axes>"
      ]
     },
     "metadata": {},
     "output_type": "display_data"
    }
   ],
   "source": [
    "# language_code vs average_rating\n",
    "plt.figure(figsize=(10, 6))\n",
    "sns.boxplot(x=data['language_code'], y=data['average_rating'], palette='viridis')\n",
    "plt.title('Distribution of Average Rating by Language Code')\n",
    "plt.xlabel('Language Code')\n",
    "plt.ylabel('Average Rating')\n",
    "plt.xticks(rotation=45)\n",
    "plt.grid(axis='y', linestyle='--', alpha=0.7)\n",
    "plt.show()"
   ]
  },
  {
   "cell_type": "markdown",
   "metadata": {},
   "source": [
    "*The lowest average_rating was given to a book written in english, but still for the same language there was a book with a max average_rating of 5.*\n",
    "\n",
    "*If we take into account only languages with the most books (eng, en-US, fre, spa, en-GB), we cannot especially differentiate languages with only high average_rating from those with low average_rating.*"
   ]
  },
  {
   "cell_type": "code",
   "execution_count": 83,
   "metadata": {},
   "outputs": [],
   "source": [
    "# authors vs average_rating"
   ]
  },
  {
   "cell_type": "markdown",
   "metadata": {},
   "source": []
  },
  {
   "cell_type": "code",
   "execution_count": 84,
   "metadata": {},
   "outputs": [],
   "source": [
    "# publisher vs average_rating"
   ]
  },
  {
   "cell_type": "markdown",
   "metadata": {},
   "source": []
  },
  {
   "cell_type": "markdown",
   "metadata": {},
   "source": [
    "#### Quantitative features mutivariate analysis"
   ]
  },
  {
   "cell_type": "code",
   "execution_count": 85,
   "metadata": {},
   "outputs": [
    {
     "data": {
      "text/html": [
       "<div>\n",
       "<style scoped>\n",
       "    .dataframe tbody tr th:only-of-type {\n",
       "        vertical-align: middle;\n",
       "    }\n",
       "\n",
       "    .dataframe tbody tr th {\n",
       "        vertical-align: top;\n",
       "    }\n",
       "\n",
       "    .dataframe thead th {\n",
       "        text-align: right;\n",
       "    }\n",
       "</style>\n",
       "<table border=\"1\" class=\"dataframe\">\n",
       "  <thead>\n",
       "    <tr style=\"text-align: right;\">\n",
       "      <th></th>\n",
       "      <th>average_rating</th>\n",
       "      <th>num_pages</th>\n",
       "      <th>ratings_count</th>\n",
       "      <th>text_reviews_count</th>\n",
       "      <th>publication_year</th>\n",
       "    </tr>\n",
       "  </thead>\n",
       "  <tbody>\n",
       "    <tr>\n",
       "      <th>average_rating</th>\n",
       "      <td>1.000000</td>\n",
       "      <td>0.170746</td>\n",
       "      <td>0.040815</td>\n",
       "      <td>0.033764</td>\n",
       "      <td>-0.046053</td>\n",
       "    </tr>\n",
       "    <tr>\n",
       "      <th>num_pages</th>\n",
       "      <td>0.170746</td>\n",
       "      <td>1.000000</td>\n",
       "      <td>0.032975</td>\n",
       "      <td>0.035104</td>\n",
       "      <td>-0.022084</td>\n",
       "    </tr>\n",
       "    <tr>\n",
       "      <th>ratings_count</th>\n",
       "      <td>0.040815</td>\n",
       "      <td>0.032975</td>\n",
       "      <td>1.000000</td>\n",
       "      <td>0.865931</td>\n",
       "      <td>0.044832</td>\n",
       "    </tr>\n",
       "    <tr>\n",
       "      <th>text_reviews_count</th>\n",
       "      <td>0.033764</td>\n",
       "      <td>0.035104</td>\n",
       "      <td>0.865931</td>\n",
       "      <td>1.000000</td>\n",
       "      <td>0.067372</td>\n",
       "    </tr>\n",
       "    <tr>\n",
       "      <th>publication_year</th>\n",
       "      <td>-0.046053</td>\n",
       "      <td>-0.022084</td>\n",
       "      <td>0.044832</td>\n",
       "      <td>0.067372</td>\n",
       "      <td>1.000000</td>\n",
       "    </tr>\n",
       "  </tbody>\n",
       "</table>\n",
       "</div>"
      ],
      "text/plain": [
       "                    average_rating  num_pages  ratings_count  \\\n",
       "average_rating            1.000000   0.170746       0.040815   \n",
       "num_pages                 0.170746   1.000000       0.032975   \n",
       "ratings_count             0.040815   0.032975       1.000000   \n",
       "text_reviews_count        0.033764   0.035104       0.865931   \n",
       "publication_year         -0.046053  -0.022084       0.044832   \n",
       "\n",
       "                    text_reviews_count  publication_year  \n",
       "average_rating                0.033764         -0.046053  \n",
       "num_pages                     0.035104         -0.022084  \n",
       "ratings_count                 0.865931          0.044832  \n",
       "text_reviews_count            1.000000          0.067372  \n",
       "publication_year              0.067372          1.000000  "
      ]
     },
     "execution_count": 85,
     "metadata": {},
     "output_type": "execute_result"
    }
   ],
   "source": [
    "# publication_year, num_pages, ratings_count, text_reviews_count vs average_rating\n",
    "data[['average_rating', 'num_pages', 'ratings_count', 'text_reviews_count', 'publication_year']].corr()"
   ]
  },
  {
   "cell_type": "markdown",
   "metadata": {},
   "source": [
    "*No high correlation was found between one of the quantitative feature and average_rating : correlations' absolute values are less than 0.5.*\n",
    "\n",
    "*If we use only these quantitative variables to explain average_rating, the fear is our models won't perform well.*"
   ]
  },
  {
   "cell_type": "markdown",
   "metadata": {},
   "source": [
    "## 5. Split data into training and test sets"
   ]
  },
  {
   "cell_type": "code",
   "execution_count": 86,
   "metadata": {},
   "outputs": [],
   "source": [
    "arrays = (data.drop(columns=['average_rating']), data['average_rating'])\n",
    "X_train, X_test, y_train, y_test = train_test_split(*arrays, test_size=0.3, random_state=123)\n",
    "del arrays"
   ]
  },
  {
   "cell_type": "code",
   "execution_count": 87,
   "metadata": {},
   "outputs": [
    {
     "name": "stdout",
     "output_type": "stream",
     "text": [
      "7679 3292\n"
     ]
    }
   ],
   "source": [
    "train_indexes = list(X_train.index)\n",
    "test_indexes = list(X_test.index)\n",
    "print(len(train_indexes), len(test_indexes))"
   ]
  },
  {
   "cell_type": "code",
   "execution_count": 88,
   "metadata": {},
   "outputs": [
    {
     "data": {
      "text/html": [
       "<div>\n",
       "<style scoped>\n",
       "    .dataframe tbody tr th:only-of-type {\n",
       "        vertical-align: middle;\n",
       "    }\n",
       "\n",
       "    .dataframe tbody tr th {\n",
       "        vertical-align: top;\n",
       "    }\n",
       "\n",
       "    .dataframe thead th {\n",
       "        text-align: right;\n",
       "    }\n",
       "</style>\n",
       "<table border=\"1\" class=\"dataframe\">\n",
       "  <thead>\n",
       "    <tr style=\"text-align: right;\">\n",
       "      <th></th>\n",
       "      <th>title</th>\n",
       "      <th>authors</th>\n",
       "      <th>language_code</th>\n",
       "      <th>num_pages</th>\n",
       "      <th>ratings_count</th>\n",
       "      <th>text_reviews_count</th>\n",
       "      <th>publisher</th>\n",
       "      <th>publication_year</th>\n",
       "    </tr>\n",
       "  </thead>\n",
       "  <tbody>\n",
       "    <tr>\n",
       "      <th>42</th>\n",
       "      <td>Traders  Guns &amp; Money: Knowns and Unknowns in ...</td>\n",
       "      <td>Satyajit Das</td>\n",
       "      <td>eng</td>\n",
       "      <td>334</td>\n",
       "      <td>1456</td>\n",
       "      <td>82</td>\n",
       "      <td>FT Press</td>\n",
       "      <td>2006</td>\n",
       "    </tr>\n",
       "  </tbody>\n",
       "</table>\n",
       "</div>"
      ],
      "text/plain": [
       "                                                title       authors  \\\n",
       "42  Traders  Guns & Money: Knowns and Unknowns in ...  Satyajit Das   \n",
       "\n",
       "   language_code  num_pages  ratings_count  text_reviews_count publisher  \\\n",
       "42           eng        334           1456                  82  FT Press   \n",
       "\n",
       "    publication_year  \n",
       "42              2006  "
      ]
     },
     "execution_count": 88,
     "metadata": {},
     "output_type": "execute_result"
    }
   ],
   "source": [
    "X_train.head(1)"
   ]
  },
  {
   "cell_type": "code",
   "execution_count": 89,
   "metadata": {},
   "outputs": [
    {
     "data": {
      "text/plain": [
       "42    3.83\n",
       "Name: average_rating, dtype: float64"
      ]
     },
     "execution_count": 89,
     "metadata": {},
     "output_type": "execute_result"
    }
   ],
   "source": [
    "y_train.head(1)"
   ]
  },
  {
   "cell_type": "markdown",
   "metadata": {},
   "source": [
    "## 6. Prediction models based on feature engineering"
   ]
  },
  {
   "cell_type": "markdown",
   "metadata": {},
   "source": [
    "*We will only use quantitative features as num_pages, ratings_count, text_reviews_count and publication_year to explain average_rating.* \n",
    "\n",
    "*We will perform regression models, and the assessment metrics will be the mean_squared_error (MSE) and/or the r_squared.*"
   ]
  },
  {
   "cell_type": "code",
   "execution_count": 90,
   "metadata": {},
   "outputs": [],
   "source": [
    "quantitative_features = ['num_pages', 'ratings_count', 'text_reviews_count', 'publication_year']"
   ]
  },
  {
   "cell_type": "markdown",
   "metadata": {},
   "source": [
    "Linear models"
   ]
  },
  {
   "cell_type": "code",
   "execution_count": 91,
   "metadata": {},
   "outputs": [
    {
     "name": "stdout",
     "output_type": "stream",
     "text": [
      "Training mean_squared_error: 0.0852\n",
      "Test mean_squared_error: 0.0813\n",
      "\n",
      "\n",
      "Training r_squared: 0.0276\n",
      "Test r_squared: 0.0386\n"
     ]
    }
   ],
   "source": [
    "# Linear regression\n",
    "\n",
    "# Instantiate a linear regressor object\n",
    "model_LR = LinearRegression()\n",
    "\n",
    "# Fit the object on the training set\n",
    "model_LR.fit(X_train[quantitative_features], y_train)\n",
    "\n",
    "# Compute the model metrics\n",
    "\n",
    "train_mean_squared_error = mean_squared_error(y_true=y_train, y_pred=model_LR.predict(X_train[quantitative_features]))\n",
    "test_mean_squared_error = mean_squared_error(y_true=y_test, y_pred=model_LR.predict(X_test[quantitative_features]))\n",
    "print(f\"Training mean_squared_error: {train_mean_squared_error:.4f}\")\n",
    "print(f\"Test mean_squared_error: {test_mean_squared_error:.4f}\")\n",
    "\n",
    "train_r_squared = r2_score(y_true=y_train, y_pred=model_LR.predict(X_train[quantitative_features]))\n",
    "test_r_squared = r2_score(y_true=y_test, y_pred=model_LR.predict(X_test[quantitative_features]))\n",
    "print('\\n')\n",
    "print(f\"Training r_squared: {train_r_squared:.4f}\")\n",
    "print(f\"Test r_squared: {test_r_squared:.4f}\")\n",
    "\n",
    "del train_mean_squared_error, test_mean_squared_error, train_r_squared, test_r_squared"
   ]
  },
  {
   "cell_type": "markdown",
   "metadata": {},
   "source": [
    "*The linear regression model doesn't suffer from overfitting, since the test mean_squared_error tends to be lower than this of the training set; even the r_squared values confirm this fact.*\n",
    "\n",
    "*But still, we can only explainup to 4% of the average_rating informations. This percentage of explained informations seems very low.*"
   ]
  },
  {
   "cell_type": "markdown",
   "metadata": {},
   "source": [
    "Non linear models"
   ]
  },
  {
   "cell_type": "markdown",
   "metadata": {},
   "source": [
    "*At this step, we need to rescale our quantitative features because the non linear models (random forest, xgboost) we will use are mainly based on decision trees.*\n",
    "\n",
    "*As we know these decision trees for the regression cases, can easily suffer from bias if the quantitative features aren't on the same scale.\n",
    "The decision trees could handle qualitative features, but in our cases each qualitative feature has at least 100 unique values which is greater than the maximal amount the decision trees implementation can handle.*"
   ]
  },
  {
   "cell_type": "code",
   "execution_count": 92,
   "metadata": {},
   "outputs": [],
   "source": [
    "X_train_scaled = X_train[quantitative_features]\n",
    "X_test_scaled = X_test[quantitative_features]\n",
    "\n",
    "# Instantiate a MinMaxScaler object\n",
    "Scaler = MinMaxScaler()\n",
    "\n",
    "# Apply the scaling\n",
    "X_train_scaled = Scaler.fit_transform(X_train_scaled)\n",
    "X_test_scaled = Scaler.transform(X_test_scaled)"
   ]
  },
  {
   "cell_type": "code",
   "execution_count": 93,
   "metadata": {},
   "outputs": [
    {
     "name": "stdout",
     "output_type": "stream",
     "text": [
      "Best Parameters: {'max_depth': 10, 'min_samples_split': 20, 'n_estimators': 100}\n",
      "Best mean_squared_error on the training set: 0.07984600628253631\n",
      "Test mean_squared_error: 0.0766\n",
      "Test r_squared: 0.0943\n"
     ]
    }
   ],
   "source": [
    "# Random Forest\n",
    "\n",
    "# Instantiate a random forest regressor object\n",
    "model_RF = RandomForestRegressor(random_state=123)\n",
    "\n",
    "# Define the grid used to optimize the radom forest hyperparameters' values\n",
    "param_grid = {\n",
    "    'n_estimators': [20, 50, 100]  # Number of trees in the forest\n",
    "    , 'max_depth': [5, 10]  # Maximum depth of the tree\n",
    "    , 'min_samples_split': [10, 20]  # Minimum number of samples required to split a node\n",
    "}\n",
    "\n",
    "# A cross-validation will be done on the training set to choose the best hyperparameters, and the mean_squared_error is used to choose the best model\n",
    "grid_search = GridSearchCV(estimator=model_RF, param_grid=param_grid, cv=5, scoring='neg_mean_squared_error', n_jobs=-1)\n",
    "# neg_mean_squared_error because we want the model with the low mean_squared_error : by maximizing neg_mean_squared_error, we minimize mean_squared_error \n",
    "\n",
    "# Get the best model\n",
    "grid_search.fit(X_train_scaled, y_train)\n",
    "best_params = grid_search.best_params_\n",
    "best_mean_squared_error = -grid_search.best_score_\n",
    "print(\"Best Parameters:\", best_params)\n",
    "print(\"Best mean_squared_error on the training set:\", best_mean_squared_error)\n",
    "\n",
    "# Evaluate the best model on the test set\n",
    "best_model_RF = grid_search.best_estimator_\n",
    "test_mean_squared_error = mean_squared_error(y_true=y_test, y_pred=best_model_RF.predict(X_test_scaled))\n",
    "test_r_squared = r2_score(y_true=y_test, y_pred=best_model_RF.predict(X_test_scaled))\n",
    "\n",
    "print(f\"Test mean_squared_error: {test_mean_squared_error:.4f}\")\n",
    "print(f\"Test r_squared: {test_r_squared:.4f}\")\n",
    "\n",
    "del test_r_squared, test_mean_squared_error, best_mean_squared_error, grid_search, param_grid, best_params"
   ]
  },
  {
   "cell_type": "markdown",
   "metadata": {},
   "source": [
    "*The random forest model also doesn't suffer from overfitting, because the test mean_squared_error tends to be lower than this of the training set.* \n",
    "\n",
    "*We're able now to explain more than 4% up to 9.43% of the average_rating informations.*"
   ]
  },
  {
   "cell_type": "code",
   "execution_count": 94,
   "metadata": {},
   "outputs": [
    {
     "name": "stdout",
     "output_type": "stream",
     "text": [
      "Best Parameters: {'learning_rate': 0.1, 'max_depth': 5, 'n_estimators': 50}\n",
      "Best mean_squared_error on the training set: 0.08034414437219707\n",
      "Test mean_squared_error: 0.0765\n",
      "Test r_squared: 0.0955\n"
     ]
    }
   ],
   "source": [
    "# Xgboost\n",
    "\n",
    "# Instantiate an XGBoost regressor object\n",
    "model_XGB = XGBRegressor(random_state=123)\n",
    "\n",
    "# Define the grid used to optimize the XGBoost hyperparameters' values\n",
    "param_grid = {\n",
    "    'n_estimators': [20, 50, 100]  # Number of trees\n",
    "    , 'max_depth': [5, 10]   # Maximum depth of a tree\n",
    "    , 'learning_rate': [0.01, 0.1, 0.3]  # Learning rate\n",
    "}\n",
    "\n",
    "# A cross-validation will be done on the training set to choose the best hyperparameters, and the mean_squared_error is used to choose the best model\n",
    "grid_search = GridSearchCV(estimator=model_XGB, param_grid=param_grid, cv=5, scoring='neg_mean_squared_error', n_jobs=-1)\n",
    "# neg_mean_squared_error because we want the model with the low mean_squared_error : by maximizing neg_mean_squared_error, we minimize mean_squared_error \n",
    "\n",
    "# Get the best model\n",
    "grid_search.fit(X_train_scaled, y_train)\n",
    "best_params = grid_search.best_params_\n",
    "best_mean_squared_error = -grid_search.best_score_\n",
    "print(\"Best Parameters:\", best_params)\n",
    "print(\"Best mean_squared_error on the training set:\", best_mean_squared_error)\n",
    "\n",
    "# Evaluate the best model on the test set\n",
    "best_model_XGB = grid_search.best_estimator_\n",
    "test_mean_squared_error = mean_squared_error(y_true=y_test, y_pred=best_model_XGB.predict(X_test_scaled))\n",
    "test_r_squared = r2_score(y_true=y_test, y_pred=best_model_XGB.predict(X_test_scaled))\n",
    "\n",
    "print(f\"Test mean_squared_error: {test_mean_squared_error:.4f}\")\n",
    "print(f\"Test r_squared: {test_r_squared:.4f}\")\n",
    "\n",
    "del test_r_squared, test_mean_squared_error, best_mean_squared_error, grid_search, param_grid, best_params"
   ]
  },
  {
   "cell_type": "markdown",
   "metadata": {},
   "source": [
    "*The XGBoost model also doesn't suffer from overfitting, because the test mean_squared_error tends to be lower than this of the training set.* \n",
    "\n",
    "*We're able now to explain more than 4% up to 9.55% of the average_rating informations.*"
   ]
  },
  {
   "cell_type": "markdown",
   "metadata": {},
   "source": [
    "                Conclusion:\n",
    "    The models based on the work done by the feature engineering and the quantitative features are only able to explain up to 10% of the average_rating informations. \n",
    "    The models obtained don't suffer from overfitting, but this relatively low percentage of informations explained requires us to do avanced feature engineering especially on the qualitative features and use advanced models."
   ]
  },
  {
   "cell_type": "code",
   "execution_count": 95,
   "metadata": {},
   "outputs": [
    {
     "data": {
      "text/plain": [
       "35165"
      ]
     },
     "execution_count": 95,
     "metadata": {},
     "output_type": "execute_result"
    }
   ],
   "source": [
    "del model_XGB, model_LR, model_RF, X_train_scaled, X_test_scaled, best_model_RF, best_model_XGB, Scaler\n",
    "gc.collect()"
   ]
  },
  {
   "cell_type": "markdown",
   "metadata": {},
   "source": [
    "## 7. Advanced feature engineering"
   ]
  },
  {
   "cell_type": "markdown",
   "metadata": {},
   "source": [
    "*We drop the qualitative feature language_code since our data analysis seems to show that the influence of language_code on average_rating is low.*"
   ]
  },
  {
   "cell_type": "code",
   "execution_count": 96,
   "metadata": {},
   "outputs": [],
   "source": [
    "data_ = pd.concat([X_train, X_test], ignore_index=True)\n",
    "data_ = data_.drop(columns=['language_code'])\n",
    "del X_train, X_test"
   ]
  },
  {
   "cell_type": "markdown",
   "metadata": {},
   "source": [
    "*We clean the data format in the title, publisher, and authors columns*"
   ]
  },
  {
   "cell_type": "code",
   "execution_count": 97,
   "metadata": {},
   "outputs": [
    {
     "data": {
      "text/html": [
       "<div>\n",
       "<style scoped>\n",
       "    .dataframe tbody tr th:only-of-type {\n",
       "        vertical-align: middle;\n",
       "    }\n",
       "\n",
       "    .dataframe tbody tr th {\n",
       "        vertical-align: top;\n",
       "    }\n",
       "\n",
       "    .dataframe thead th {\n",
       "        text-align: right;\n",
       "    }\n",
       "</style>\n",
       "<table border=\"1\" class=\"dataframe\">\n",
       "  <thead>\n",
       "    <tr style=\"text-align: right;\">\n",
       "      <th></th>\n",
       "      <th>title</th>\n",
       "      <th>authors</th>\n",
       "      <th>num_pages</th>\n",
       "      <th>ratings_count</th>\n",
       "      <th>text_reviews_count</th>\n",
       "      <th>publisher</th>\n",
       "      <th>publication_year</th>\n",
       "    </tr>\n",
       "  </thead>\n",
       "  <tbody>\n",
       "    <tr>\n",
       "      <th>0</th>\n",
       "      <td>TRADERS  GUNS &amp; MONEY: KNOWNS AND UNKNOWNS IN ...</td>\n",
       "      <td>SATYAJITDAS</td>\n",
       "      <td>334</td>\n",
       "      <td>1456</td>\n",
       "      <td>82</td>\n",
       "      <td>FT PRESS</td>\n",
       "      <td>2006</td>\n",
       "    </tr>\n",
       "    <tr>\n",
       "      <th>1</th>\n",
       "      <td>IF CHINS COULD KILL: CONFESSIONS OF A B MOVIE ...</td>\n",
       "      <td>BRUCECAMPBELL</td>\n",
       "      <td>344</td>\n",
       "      <td>13622</td>\n",
       "      <td>731</td>\n",
       "      <td>L.A. WEEKLY BOOKS</td>\n",
       "      <td>2002</td>\n",
       "    </tr>\n",
       "  </tbody>\n",
       "</table>\n",
       "</div>"
      ],
      "text/plain": [
       "                                               title        authors  \\\n",
       "0  TRADERS  GUNS & MONEY: KNOWNS AND UNKNOWNS IN ...    SATYAJITDAS   \n",
       "1  IF CHINS COULD KILL: CONFESSIONS OF A B MOVIE ...  BRUCECAMPBELL   \n",
       "\n",
       "   num_pages  ratings_count  text_reviews_count          publisher  \\\n",
       "0        334           1456                  82           FT PRESS   \n",
       "1        344          13622                 731  L.A. WEEKLY BOOKS   \n",
       "\n",
       "   publication_year  \n",
       "0              2006  \n",
       "1              2002  "
      ]
     },
     "execution_count": 97,
     "metadata": {},
     "output_type": "execute_result"
    }
   ],
   "source": [
    "cols = ['title', 'authors', 'publisher']\n",
    "\n",
    "for col in cols:\n",
    "    data_[col] = data_[col].apply(lambda x: unidecode(x.strip()))\n",
    "    if col == 'title':\n",
    "        data_[col] = data_[col].apply(lambda x: re.sub(pattern=r'\\([^)]*\\)', repl='', string=x.upper()))\n",
    "    if col == 'authors':\n",
    "        data_[col] = data_[col].apply(lambda x: re.sub(pattern=r'\\s+', repl='', string=x.upper()))\n",
    "        data_[col] = data_[col].apply(lambda x: re.sub(pattern=r'\\.', repl='', string=x.upper()))\n",
    "    if col == 'publisher':\n",
    "        data_[col] = data_[col].apply(lambda x: x.upper())\n",
    "\n",
    "del col, cols\n",
    "\n",
    "data_.head(2)"
   ]
  },
  {
   "cell_type": "markdown",
   "metadata": {},
   "source": [
    "Transform all qualitative features into quantitative features using term frequency"
   ]
  },
  {
   "cell_type": "code",
   "execution_count": 98,
   "metadata": {},
   "outputs": [],
   "source": [
    "data2 = data_.copy(deep=True)\n",
    "cols = ['title', 'authors', 'publisher']\n",
    "df_dict = {}\n",
    "\n",
    "# Instantiate and fit TF-IDF vectorizer for each column\n",
    "for col in cols:\n",
    "    tfidf_vectorizer = TfidfVectorizer(strip_accents='unicode')\n",
    "    tfidf_data = tfidf_vectorizer.fit_transform(data2[col])\n",
    "    tfidf_df = pd.DataFrame(tfidf_data.toarray(), columns=tfidf_vectorizer.get_feature_names_out())\n",
    "    df_dict[col] = tfidf_df\n",
    "\n",
    "# Concatenate TF-IDF dataframes with the original dataframe\n",
    "data2 = data2.drop(cols, axis=1)\n",
    "for col, df in df_dict.items():\n",
    "    data2 = pd.concat(objs=[data2, df], axis=1, join='inner')\n",
    "\n",
    "_ = train_indexes + test_indexes\n",
    "data2.index = _\n",
    "\n",
    "del col, cols, tfidf_vectorizer, tfidf_df, tfidf_data, df, df_dict"
   ]
  },
  {
   "cell_type": "code",
   "execution_count": 99,
   "metadata": {},
   "outputs": [],
   "source": [
    "# Rename columns iteratively to ensure that we have unique column names\n",
    "_ = {old_name: f'Column{idx}' for idx, old_name in enumerate(data2.columns, 1)}\n",
    "data2.rename(columns=_, inplace=True)"
   ]
  },
  {
   "cell_type": "code",
   "execution_count": 100,
   "metadata": {},
   "outputs": [
    {
     "data": {
      "text/html": [
       "<div>\n",
       "<style scoped>\n",
       "    .dataframe tbody tr th:only-of-type {\n",
       "        vertical-align: middle;\n",
       "    }\n",
       "\n",
       "    .dataframe tbody tr th {\n",
       "        vertical-align: top;\n",
       "    }\n",
       "\n",
       "    .dataframe thead th {\n",
       "        text-align: right;\n",
       "    }\n",
       "</style>\n",
       "<table border=\"1\" class=\"dataframe\">\n",
       "  <thead>\n",
       "    <tr style=\"text-align: right;\">\n",
       "      <th></th>\n",
       "      <th>Column1</th>\n",
       "      <th>Column2</th>\n",
       "      <th>Column3</th>\n",
       "      <th>Column4</th>\n",
       "      <th>Column5</th>\n",
       "      <th>Column6</th>\n",
       "      <th>Column7</th>\n",
       "      <th>Column8</th>\n",
       "      <th>Column9</th>\n",
       "      <th>Column10</th>\n",
       "      <th>...</th>\n",
       "      <th>Column21642</th>\n",
       "      <th>Column21643</th>\n",
       "      <th>Column21644</th>\n",
       "      <th>Column21645</th>\n",
       "      <th>Column21646</th>\n",
       "      <th>Column21647</th>\n",
       "      <th>Column21648</th>\n",
       "      <th>Column21649</th>\n",
       "      <th>Column21650</th>\n",
       "      <th>Column21651</th>\n",
       "    </tr>\n",
       "  </thead>\n",
       "  <tbody>\n",
       "    <tr>\n",
       "      <th>42</th>\n",
       "      <td>334</td>\n",
       "      <td>1456</td>\n",
       "      <td>82</td>\n",
       "      <td>2006</td>\n",
       "      <td>0.0</td>\n",
       "      <td>0.0</td>\n",
       "      <td>0.0</td>\n",
       "      <td>0.0</td>\n",
       "      <td>0.0</td>\n",
       "      <td>0.0</td>\n",
       "      <td>...</td>\n",
       "      <td>0.0</td>\n",
       "      <td>0.0</td>\n",
       "      <td>0.0</td>\n",
       "      <td>0.0</td>\n",
       "      <td>0.0</td>\n",
       "      <td>0.0</td>\n",
       "      <td>0.0</td>\n",
       "      <td>0.0</td>\n",
       "      <td>0.0</td>\n",
       "      <td>0.0</td>\n",
       "    </tr>\n",
       "    <tr>\n",
       "      <th>8934</th>\n",
       "      <td>344</td>\n",
       "      <td>13622</td>\n",
       "      <td>731</td>\n",
       "      <td>2002</td>\n",
       "      <td>0.0</td>\n",
       "      <td>0.0</td>\n",
       "      <td>0.0</td>\n",
       "      <td>0.0</td>\n",
       "      <td>0.0</td>\n",
       "      <td>0.0</td>\n",
       "      <td>...</td>\n",
       "      <td>0.0</td>\n",
       "      <td>0.0</td>\n",
       "      <td>0.0</td>\n",
       "      <td>0.0</td>\n",
       "      <td>0.0</td>\n",
       "      <td>0.0</td>\n",
       "      <td>0.0</td>\n",
       "      <td>0.0</td>\n",
       "      <td>0.0</td>\n",
       "      <td>0.0</td>\n",
       "    </tr>\n",
       "  </tbody>\n",
       "</table>\n",
       "<p>2 rows × 21651 columns</p>\n",
       "</div>"
      ],
      "text/plain": [
       "      Column1  Column2  Column3  Column4  Column5  Column6  Column7  Column8  \\\n",
       "42        334     1456       82     2006      0.0      0.0      0.0      0.0   \n",
       "8934      344    13622      731     2002      0.0      0.0      0.0      0.0   \n",
       "\n",
       "      Column9  Column10  ...  Column21642  Column21643  Column21644  \\\n",
       "42        0.0       0.0  ...          0.0          0.0          0.0   \n",
       "8934      0.0       0.0  ...          0.0          0.0          0.0   \n",
       "\n",
       "      Column21645  Column21646  Column21647  Column21648  Column21649  \\\n",
       "42            0.0          0.0          0.0          0.0          0.0   \n",
       "8934          0.0          0.0          0.0          0.0          0.0   \n",
       "\n",
       "      Column21650  Column21651  \n",
       "42            0.0          0.0  \n",
       "8934          0.0          0.0  \n",
       "\n",
       "[2 rows x 21651 columns]"
      ]
     },
     "execution_count": 100,
     "metadata": {},
     "output_type": "execute_result"
    }
   ],
   "source": [
    "data2.head(2)"
   ]
  },
  {
   "cell_type": "markdown",
   "metadata": {},
   "source": [
    "Apply BERT model (First Case without adding some context to the text data)"
   ]
  },
  {
   "cell_type": "code",
   "execution_count": 101,
   "metadata": {},
   "outputs": [],
   "source": [
    "data3 = data_.copy(deep=True)\n",
    "\n",
    "# Concatenante all the qualitative and quantitative features into a meaningful sentence which can describe average_rating\n",
    "data3['text'] = data3.apply(\n",
    "    lambda row:\"the book {} written by {} and published by {} in {} with {} pages rated by {} persons and reviewed by {} people.\".format(\n",
    "        row[\"title\"], row[\"authors\"], row[\"publisher\"], row[\"publication_year\"], row['num_pages'], row['ratings_count'], row['text_reviews_count']), axis=1)\n",
    "\n",
    "data3[\"text\"] = data3[\"text\"].apply(lambda x: x.replace('/',' , '))\n",
    "\n",
    "_ = train_indexes + test_indexes\n",
    "data3.index = _\n"
   ]
  },
  {
   "cell_type": "code",
   "execution_count": 102,
   "metadata": {},
   "outputs": [
    {
     "data": {
      "text/plain": [
       "'the book HARRY POTTER AND THE HALF-BLOOD PRINCE  written by JKROWLING , MARYGRANDPRE and published by SCHOLASTIC INC. in 2006 with 652 pages rated by 2095690 persons and reviewed by 27591 people.'"
      ]
     },
     "execution_count": 102,
     "metadata": {},
     "output_type": "execute_result"
    }
   ],
   "source": [
    "data3['text'][0]"
   ]
  },
  {
   "cell_type": "code",
   "execution_count": 103,
   "metadata": {},
   "outputs": [
    {
     "name": "stdout",
     "output_type": "stream",
     "text": [
      "WARNING:tensorflow:From c:\\Users\\acoue\\OneDrive\\Desktop\\Rate\\RateMe\\.venv\\Lib\\site-packages\\keras\\src\\backend.py:873: The name tf.get_default_graph is deprecated. Please use tf.compat.v1.get_default_graph instead.\n",
      "\n"
     ]
    },
    {
     "name": "stderr",
     "output_type": "stream",
     "text": [
      "Some weights of the PyTorch model were not used when initializing the TF 2.0 model TFBertModel: ['cls.seq_relationship.bias', 'cls.predictions.transform.LayerNorm.bias', 'cls.predictions.transform.dense.bias', 'cls.predictions.transform.LayerNorm.weight', 'cls.seq_relationship.weight', 'cls.predictions.bias', 'cls.predictions.transform.dense.weight']\n",
      "- This IS expected if you are initializing TFBertModel from a PyTorch model trained on another task or with another architecture (e.g. initializing a TFBertForSequenceClassification model from a BertForPreTraining model).\n",
      "- This IS NOT expected if you are initializing TFBertModel from a PyTorch model that you expect to be exactly identical (e.g. initializing a TFBertForSequenceClassification model from a BertForSequenceClassification model).\n",
      "All the weights of TFBertModel were initialized from the PyTorch model.\n",
      "If your task is similar to the task the model of the checkpoint was trained on, you can already use TFBertModel for predictions without further training.\n"
     ]
    }
   ],
   "source": [
    "# Define the BERT model and tokenizer\n",
    "tokenizer = BertTokenizer.from_pretrained('bert-base-uncased')\n",
    "bert_model = TFBertModel.from_pretrained('bert-base-uncased')"
   ]
  },
  {
   "cell_type": "code",
   "execution_count": 104,
   "metadata": {},
   "outputs": [],
   "source": [
    "# Tokenize the text data\n",
    "def tokenize_text(text):\n",
    "    return tokenizer(text, return_tensors='tf', truncation=True, padding=True)\n",
    "\n",
    "_ = data3['text']\n",
    "X_train3 = _[train_indexes].apply(tokenize_text)\n",
    "X_test3 = _[test_indexes].apply(tokenize_text)"
   ]
  },
  {
   "cell_type": "code",
   "execution_count": 105,
   "metadata": {},
   "outputs": [
    {
     "data": {
      "text/plain": [
       "42      [input_ids, token_type_ids, attention_mask]\n",
       "8934    [input_ids, token_type_ids, attention_mask]\n",
       "Name: text, dtype: object"
      ]
     },
     "execution_count": 105,
     "metadata": {},
     "output_type": "execute_result"
    }
   ],
   "source": [
    "X_train3.head(2)"
   ]
  },
  {
   "cell_type": "code",
   "execution_count": 110,
   "metadata": {},
   "outputs": [],
   "source": [
    "# Extract BERT embeddings for text data\n",
    "def extract_bert_embeddings(text_tokens):\n",
    "    return bert_model(**text_tokens).last_hidden_state[:, 0, :]\n",
    "\n",
    "X_train_text_embeddings = tf.concat([extract_bert_embeddings(text_tokens) for text_tokens in X_train3], axis=0)\n",
    "X_test_text_embeddings = tf.concat([extract_bert_embeddings(text_tokens) for text_tokens in X_test3], axis=0)"
   ]
  },
  {
   "cell_type": "code",
   "execution_count": 111,
   "metadata": {},
   "outputs": [
    {
     "data": {
      "text/plain": [
       "15998"
      ]
     },
     "execution_count": 111,
     "metadata": {},
     "output_type": "execute_result"
    }
   ],
   "source": [
    "# Define a column transformer for numerical features (quantitative_features)\n",
    "preprocessor = ColumnTransformer(transformers=[('num', MinMaxScaler(), quantitative_features), ])\n",
    "# Instantiate a MinMaxScaler object\n",
    "Scaler = MinMaxScaler()\n",
    "\n",
    "# Combine scaled BERT embeddings and scaled numerical features\n",
    "X_train_combined = pd.concat([\n",
    "    pd.DataFrame(Scaler.fit_transform(X_train_text_embeddings))\n",
    "    , pd.DataFrame(preprocessor.fit_transform(data3.loc[train_indexes, :][quantitative_features]))]\n",
    "    , axis=1)\n",
    "X_test_combined = pd.concat([\n",
    "    pd.DataFrame(Scaler.transform(X_test_text_embeddings))\n",
    "    , pd.DataFrame(preprocessor.transform(data3.loc[test_indexes, :][quantitative_features]))]\n",
    "    , axis=1)\n",
    "\n",
    "X_train3 = np.array(X_train_combined)\n",
    "X_test3 = np.array(X_test_combined)\n",
    "\n",
    "del X_train_combined, X_test_combined, Scaler\n",
    "gc.collect()"
   ]
  },
  {
   "cell_type": "markdown",
   "metadata": {},
   "source": [
    "Apply BERT model (Second Case with adding some context to the text data)"
   ]
  },
  {
   "cell_type": "markdown",
   "metadata": {},
   "source": [
    "*After the text data is constructed, we won't keep the numerical/quantitative features like we did in the previous process.*"
   ]
  },
  {
   "cell_type": "code",
   "execution_count": 113,
   "metadata": {},
   "outputs": [],
   "source": [
    "def parse_authors(authors):\n",
    "    list_auth = [x.lstrip().rstrip() for x in authors.split('/')]\n",
    "    n = len(list_auth)\n",
    "    if n > 1:\n",
    "        auth1 = list_auth[:-1]\n",
    "        auth2 = list_auth[-1:]\n",
    "        return  ', '.join(auth1) + ' and ' + auth2[0].lstrip().rstrip()\n",
    "    else:\n",
    "        return authors\n",
    "\n",
    "data4 = data_.copy(deep=True)\n",
    "data4['authors'] = data4['authors'].apply(parse_authors)\n",
    "data4['text'] = data4.apply(lambda row:\"The book '{}' with {} pages, written by {}, published by '{}' in {} got rated by {} people and reviewed by {} people.\".format(\n",
    "    row[\"title\"], row['num_pages'], row[\"authors\"], row[\"publisher\"], row[\"publication_year\"], row['ratings_count'], row['text_reviews_count']), axis=1)\n",
    "\n",
    "data4 = data4[['text']]\n",
    "\n",
    "_ = train_indexes + test_indexes\n",
    "data4.index = _\n",
    "\n",
    "del data_\n"
   ]
  },
  {
   "cell_type": "code",
   "execution_count": 116,
   "metadata": {},
   "outputs": [
    {
     "name": "stderr",
     "output_type": "stream",
     "text": [
      "Some weights of the PyTorch model were not used when initializing the TF 2.0 model TFBertModel: ['cls.seq_relationship.bias', 'cls.predictions.transform.LayerNorm.bias', 'cls.predictions.transform.dense.bias', 'cls.predictions.transform.LayerNorm.weight', 'cls.seq_relationship.weight', 'cls.predictions.bias', 'cls.predictions.transform.dense.weight']\n",
      "- This IS expected if you are initializing TFBertModel from a PyTorch model trained on another task or with another architecture (e.g. initializing a TFBertForSequenceClassification model from a BertForPreTraining model).\n",
      "- This IS NOT expected if you are initializing TFBertModel from a PyTorch model that you expect to be exactly identical (e.g. initializing a TFBertForSequenceClassification model from a BertForSequenceClassification model).\n",
      "All the weights of TFBertModel were initialized from the PyTorch model.\n",
      "If your task is similar to the task the model of the checkpoint was trained on, you can already use TFBertModel for predictions without further training.\n"
     ]
    }
   ],
   "source": [
    "# Define the BERT model and tokenizer\n",
    "tokenizer = BertTokenizer.from_pretrained('bert-base-uncased')\n",
    "bert_model = TFBertModel.from_pretrained('bert-base-uncased')"
   ]
  },
  {
   "cell_type": "code",
   "execution_count": 117,
   "metadata": {},
   "outputs": [],
   "source": [
    "# Tokenize the text data\n",
    "def tokenize_text(text):\n",
    "    return tokenizer(text, return_tensors='tf', truncation=True, padding=True)\n",
    "\n",
    "_ = data4['text']\n",
    "X_train4 = _[train_indexes].apply(tokenize_text)\n",
    "X_test4 = _[test_indexes].apply(tokenize_text)\n",
    "\n",
    "del data4"
   ]
  },
  {
   "cell_type": "code",
   "execution_count": 118,
   "metadata": {},
   "outputs": [
    {
     "data": {
      "text/plain": [
       "42      [input_ids, token_type_ids, attention_mask]\n",
       "8934    [input_ids, token_type_ids, attention_mask]\n",
       "Name: text, dtype: object"
      ]
     },
     "execution_count": 118,
     "metadata": {},
     "output_type": "execute_result"
    }
   ],
   "source": [
    "X_train4.head(2)"
   ]
  },
  {
   "cell_type": "code",
   "execution_count": 119,
   "metadata": {},
   "outputs": [],
   "source": [
    "# Extract BERT embeddings for text data\n",
    "def extract_bert_embeddings(text_tokens):\n",
    "    return bert_model(**text_tokens).last_hidden_state[:, 0, :]\n",
    "\n",
    "X_train_text_embeddings2 = tf.concat([extract_bert_embeddings(text_tokens) for text_tokens in X_train4], axis=0)\n",
    "X_test_text_embeddings2 = tf.concat([extract_bert_embeddings(text_tokens) for text_tokens in X_test4], axis=0)\n"
   ]
  },
  {
   "cell_type": "code",
   "execution_count": 124,
   "metadata": {},
   "outputs": [],
   "source": [
    "X_train4 = np.array(X_train_text_embeddings2)\n",
    "X_test4 = np.array(X_test_text_embeddings2)\n"
   ]
  },
  {
   "cell_type": "code",
   "execution_count": 120,
   "metadata": {},
   "outputs": [
    {
     "data": {
      "text/plain": [
       "175"
      ]
     },
     "execution_count": 120,
     "metadata": {},
     "output_type": "execute_result"
    }
   ],
   "source": [
    "del BertTokenizer, bert_model\n",
    "gc.collect()"
   ]
  },
  {
   "cell_type": "markdown",
   "metadata": {},
   "source": [
    "## 8. Prediction models based on advanced feature engineering"
   ]
  },
  {
   "cell_type": "markdown",
   "metadata": {},
   "source": [
    "*Others than the mean_squared_error, and the r_squared, another metric we can also use to assess models is the mean_absolute_error.*"
   ]
  },
  {
   "cell_type": "markdown",
   "metadata": {},
   "source": [
    "### 8.1. Advanced models based on term frequency feature engineering"
   ]
  },
  {
   "cell_type": "code",
   "execution_count": 50,
   "metadata": {},
   "outputs": [],
   "source": [
    "X_train2 = data2.loc[train_indexes, :]\n",
    "X_test2 = data2.loc[test_indexes, :]\n",
    "del data2\n"
   ]
  },
  {
   "cell_type": "code",
   "execution_count": 51,
   "metadata": {},
   "outputs": [
    {
     "data": {
      "text/html": [
       "<div>\n",
       "<style scoped>\n",
       "    .dataframe tbody tr th:only-of-type {\n",
       "        vertical-align: middle;\n",
       "    }\n",
       "\n",
       "    .dataframe tbody tr th {\n",
       "        vertical-align: top;\n",
       "    }\n",
       "\n",
       "    .dataframe thead th {\n",
       "        text-align: right;\n",
       "    }\n",
       "</style>\n",
       "<table border=\"1\" class=\"dataframe\">\n",
       "  <thead>\n",
       "    <tr style=\"text-align: right;\">\n",
       "      <th></th>\n",
       "      <th>Column1</th>\n",
       "      <th>Column2</th>\n",
       "      <th>Column3</th>\n",
       "      <th>Column4</th>\n",
       "      <th>Column5</th>\n",
       "      <th>Column6</th>\n",
       "      <th>Column7</th>\n",
       "      <th>Column8</th>\n",
       "      <th>Column9</th>\n",
       "      <th>Column10</th>\n",
       "      <th>...</th>\n",
       "      <th>Column21642</th>\n",
       "      <th>Column21643</th>\n",
       "      <th>Column21644</th>\n",
       "      <th>Column21645</th>\n",
       "      <th>Column21646</th>\n",
       "      <th>Column21647</th>\n",
       "      <th>Column21648</th>\n",
       "      <th>Column21649</th>\n",
       "      <th>Column21650</th>\n",
       "      <th>Column21651</th>\n",
       "    </tr>\n",
       "  </thead>\n",
       "  <tbody>\n",
       "    <tr>\n",
       "      <th>42</th>\n",
       "      <td>334</td>\n",
       "      <td>1456</td>\n",
       "      <td>82</td>\n",
       "      <td>2006</td>\n",
       "      <td>0.0</td>\n",
       "      <td>0.0</td>\n",
       "      <td>0.0</td>\n",
       "      <td>0.0</td>\n",
       "      <td>0.0</td>\n",
       "      <td>0.0</td>\n",
       "      <td>...</td>\n",
       "      <td>0.0</td>\n",
       "      <td>0.0</td>\n",
       "      <td>0.0</td>\n",
       "      <td>0.0</td>\n",
       "      <td>0.0</td>\n",
       "      <td>0.0</td>\n",
       "      <td>0.0</td>\n",
       "      <td>0.0</td>\n",
       "      <td>0.0</td>\n",
       "      <td>0.0</td>\n",
       "    </tr>\n",
       "    <tr>\n",
       "      <th>8934</th>\n",
       "      <td>344</td>\n",
       "      <td>13622</td>\n",
       "      <td>731</td>\n",
       "      <td>2002</td>\n",
       "      <td>0.0</td>\n",
       "      <td>0.0</td>\n",
       "      <td>0.0</td>\n",
       "      <td>0.0</td>\n",
       "      <td>0.0</td>\n",
       "      <td>0.0</td>\n",
       "      <td>...</td>\n",
       "      <td>0.0</td>\n",
       "      <td>0.0</td>\n",
       "      <td>0.0</td>\n",
       "      <td>0.0</td>\n",
       "      <td>0.0</td>\n",
       "      <td>0.0</td>\n",
       "      <td>0.0</td>\n",
       "      <td>0.0</td>\n",
       "      <td>0.0</td>\n",
       "      <td>0.0</td>\n",
       "    </tr>\n",
       "    <tr>\n",
       "      <th>2750</th>\n",
       "      <td>709</td>\n",
       "      <td>26794</td>\n",
       "      <td>278</td>\n",
       "      <td>2003</td>\n",
       "      <td>0.0</td>\n",
       "      <td>0.0</td>\n",
       "      <td>0.0</td>\n",
       "      <td>0.0</td>\n",
       "      <td>0.0</td>\n",
       "      <td>0.0</td>\n",
       "      <td>...</td>\n",
       "      <td>0.0</td>\n",
       "      <td>0.0</td>\n",
       "      <td>0.0</td>\n",
       "      <td>0.0</td>\n",
       "      <td>0.0</td>\n",
       "      <td>0.0</td>\n",
       "      <td>0.0</td>\n",
       "      <td>0.0</td>\n",
       "      <td>0.0</td>\n",
       "      <td>0.0</td>\n",
       "    </tr>\n",
       "    <tr>\n",
       "      <th>7836</th>\n",
       "      <td>551</td>\n",
       "      <td>3971</td>\n",
       "      <td>141</td>\n",
       "      <td>2004</td>\n",
       "      <td>0.0</td>\n",
       "      <td>0.0</td>\n",
       "      <td>0.0</td>\n",
       "      <td>0.0</td>\n",
       "      <td>0.0</td>\n",
       "      <td>0.0</td>\n",
       "      <td>...</td>\n",
       "      <td>0.0</td>\n",
       "      <td>0.0</td>\n",
       "      <td>0.0</td>\n",
       "      <td>0.0</td>\n",
       "      <td>0.0</td>\n",
       "      <td>0.0</td>\n",
       "      <td>0.0</td>\n",
       "      <td>0.0</td>\n",
       "      <td>0.0</td>\n",
       "      <td>0.0</td>\n",
       "    </tr>\n",
       "    <tr>\n",
       "      <th>4397</th>\n",
       "      <td>437</td>\n",
       "      <td>15</td>\n",
       "      <td>2</td>\n",
       "      <td>2005</td>\n",
       "      <td>0.0</td>\n",
       "      <td>0.0</td>\n",
       "      <td>0.0</td>\n",
       "      <td>0.0</td>\n",
       "      <td>0.0</td>\n",
       "      <td>0.0</td>\n",
       "      <td>...</td>\n",
       "      <td>0.0</td>\n",
       "      <td>0.0</td>\n",
       "      <td>0.0</td>\n",
       "      <td>0.0</td>\n",
       "      <td>0.0</td>\n",
       "      <td>0.0</td>\n",
       "      <td>0.0</td>\n",
       "      <td>0.0</td>\n",
       "      <td>0.0</td>\n",
       "      <td>0.0</td>\n",
       "    </tr>\n",
       "    <tr>\n",
       "      <th>...</th>\n",
       "      <td>...</td>\n",
       "      <td>...</td>\n",
       "      <td>...</td>\n",
       "      <td>...</td>\n",
       "      <td>...</td>\n",
       "      <td>...</td>\n",
       "      <td>...</td>\n",
       "      <td>...</td>\n",
       "      <td>...</td>\n",
       "      <td>...</td>\n",
       "      <td>...</td>\n",
       "      <td>...</td>\n",
       "      <td>...</td>\n",
       "      <td>...</td>\n",
       "      <td>...</td>\n",
       "      <td>...</td>\n",
       "      <td>...</td>\n",
       "      <td>...</td>\n",
       "      <td>...</td>\n",
       "      <td>...</td>\n",
       "      <td>...</td>\n",
       "    </tr>\n",
       "    <tr>\n",
       "      <th>9924</th>\n",
       "      <td>240</td>\n",
       "      <td>541914</td>\n",
       "      <td>11576</td>\n",
       "      <td>1998</td>\n",
       "      <td>0.0</td>\n",
       "      <td>0.0</td>\n",
       "      <td>0.0</td>\n",
       "      <td>0.0</td>\n",
       "      <td>0.0</td>\n",
       "      <td>0.0</td>\n",
       "      <td>...</td>\n",
       "      <td>0.0</td>\n",
       "      <td>0.0</td>\n",
       "      <td>0.0</td>\n",
       "      <td>0.0</td>\n",
       "      <td>0.0</td>\n",
       "      <td>0.0</td>\n",
       "      <td>0.0</td>\n",
       "      <td>0.0</td>\n",
       "      <td>0.0</td>\n",
       "      <td>0.0</td>\n",
       "    </tr>\n",
       "    <tr>\n",
       "      <th>7877</th>\n",
       "      <td>297</td>\n",
       "      <td>15072</td>\n",
       "      <td>424</td>\n",
       "      <td>2004</td>\n",
       "      <td>0.0</td>\n",
       "      <td>0.0</td>\n",
       "      <td>0.0</td>\n",
       "      <td>0.0</td>\n",
       "      <td>0.0</td>\n",
       "      <td>0.0</td>\n",
       "      <td>...</td>\n",
       "      <td>0.0</td>\n",
       "      <td>0.0</td>\n",
       "      <td>0.0</td>\n",
       "      <td>0.0</td>\n",
       "      <td>0.0</td>\n",
       "      <td>0.0</td>\n",
       "      <td>0.0</td>\n",
       "      <td>0.0</td>\n",
       "      <td>0.0</td>\n",
       "      <td>0.0</td>\n",
       "    </tr>\n",
       "    <tr>\n",
       "      <th>5278</th>\n",
       "      <td>327</td>\n",
       "      <td>3620</td>\n",
       "      <td>394</td>\n",
       "      <td>2002</td>\n",
       "      <td>0.0</td>\n",
       "      <td>0.0</td>\n",
       "      <td>0.0</td>\n",
       "      <td>0.0</td>\n",
       "      <td>0.0</td>\n",
       "      <td>0.0</td>\n",
       "      <td>...</td>\n",
       "      <td>0.0</td>\n",
       "      <td>0.0</td>\n",
       "      <td>0.0</td>\n",
       "      <td>0.0</td>\n",
       "      <td>0.0</td>\n",
       "      <td>0.0</td>\n",
       "      <td>0.0</td>\n",
       "      <td>0.0</td>\n",
       "      <td>0.0</td>\n",
       "      <td>0.0</td>\n",
       "    </tr>\n",
       "    <tr>\n",
       "      <th>1361</th>\n",
       "      <td>272</td>\n",
       "      <td>91</td>\n",
       "      <td>11</td>\n",
       "      <td>2005</td>\n",
       "      <td>0.0</td>\n",
       "      <td>0.0</td>\n",
       "      <td>0.0</td>\n",
       "      <td>0.0</td>\n",
       "      <td>0.0</td>\n",
       "      <td>0.0</td>\n",
       "      <td>...</td>\n",
       "      <td>0.0</td>\n",
       "      <td>0.0</td>\n",
       "      <td>0.0</td>\n",
       "      <td>0.0</td>\n",
       "      <td>0.0</td>\n",
       "      <td>0.0</td>\n",
       "      <td>0.0</td>\n",
       "      <td>0.0</td>\n",
       "      <td>0.0</td>\n",
       "      <td>0.0</td>\n",
       "    </tr>\n",
       "    <tr>\n",
       "      <th>3627</th>\n",
       "      <td>357</td>\n",
       "      <td>32963</td>\n",
       "      <td>2132</td>\n",
       "      <td>2007</td>\n",
       "      <td>0.0</td>\n",
       "      <td>0.0</td>\n",
       "      <td>0.0</td>\n",
       "      <td>0.0</td>\n",
       "      <td>0.0</td>\n",
       "      <td>0.0</td>\n",
       "      <td>...</td>\n",
       "      <td>0.0</td>\n",
       "      <td>0.0</td>\n",
       "      <td>0.0</td>\n",
       "      <td>0.0</td>\n",
       "      <td>0.0</td>\n",
       "      <td>0.0</td>\n",
       "      <td>0.0</td>\n",
       "      <td>0.0</td>\n",
       "      <td>0.0</td>\n",
       "      <td>0.0</td>\n",
       "    </tr>\n",
       "  </tbody>\n",
       "</table>\n",
       "<p>7679 rows × 21651 columns</p>\n",
       "</div>"
      ],
      "text/plain": [
       "      Column1  Column2  Column3  Column4  Column5  Column6  Column7  Column8  \\\n",
       "42        334     1456       82     2006      0.0      0.0      0.0      0.0   \n",
       "8934      344    13622      731     2002      0.0      0.0      0.0      0.0   \n",
       "2750      709    26794      278     2003      0.0      0.0      0.0      0.0   \n",
       "7836      551     3971      141     2004      0.0      0.0      0.0      0.0   \n",
       "4397      437       15        2     2005      0.0      0.0      0.0      0.0   \n",
       "...       ...      ...      ...      ...      ...      ...      ...      ...   \n",
       "9924      240   541914    11576     1998      0.0      0.0      0.0      0.0   \n",
       "7877      297    15072      424     2004      0.0      0.0      0.0      0.0   \n",
       "5278      327     3620      394     2002      0.0      0.0      0.0      0.0   \n",
       "1361      272       91       11     2005      0.0      0.0      0.0      0.0   \n",
       "3627      357    32963     2132     2007      0.0      0.0      0.0      0.0   \n",
       "\n",
       "      Column9  Column10  ...  Column21642  Column21643  Column21644  \\\n",
       "42        0.0       0.0  ...          0.0          0.0          0.0   \n",
       "8934      0.0       0.0  ...          0.0          0.0          0.0   \n",
       "2750      0.0       0.0  ...          0.0          0.0          0.0   \n",
       "7836      0.0       0.0  ...          0.0          0.0          0.0   \n",
       "4397      0.0       0.0  ...          0.0          0.0          0.0   \n",
       "...       ...       ...  ...          ...          ...          ...   \n",
       "9924      0.0       0.0  ...          0.0          0.0          0.0   \n",
       "7877      0.0       0.0  ...          0.0          0.0          0.0   \n",
       "5278      0.0       0.0  ...          0.0          0.0          0.0   \n",
       "1361      0.0       0.0  ...          0.0          0.0          0.0   \n",
       "3627      0.0       0.0  ...          0.0          0.0          0.0   \n",
       "\n",
       "      Column21645  Column21646  Column21647  Column21648  Column21649  \\\n",
       "42            0.0          0.0          0.0          0.0          0.0   \n",
       "8934          0.0          0.0          0.0          0.0          0.0   \n",
       "2750          0.0          0.0          0.0          0.0          0.0   \n",
       "7836          0.0          0.0          0.0          0.0          0.0   \n",
       "4397          0.0          0.0          0.0          0.0          0.0   \n",
       "...           ...          ...          ...          ...          ...   \n",
       "9924          0.0          0.0          0.0          0.0          0.0   \n",
       "7877          0.0          0.0          0.0          0.0          0.0   \n",
       "5278          0.0          0.0          0.0          0.0          0.0   \n",
       "1361          0.0          0.0          0.0          0.0          0.0   \n",
       "3627          0.0          0.0          0.0          0.0          0.0   \n",
       "\n",
       "      Column21650  Column21651  \n",
       "42            0.0          0.0  \n",
       "8934          0.0          0.0  \n",
       "2750          0.0          0.0  \n",
       "7836          0.0          0.0  \n",
       "4397          0.0          0.0  \n",
       "...           ...          ...  \n",
       "9924          0.0          0.0  \n",
       "7877          0.0          0.0  \n",
       "5278          0.0          0.0  \n",
       "1361          0.0          0.0  \n",
       "3627          0.0          0.0  \n",
       "\n",
       "[7679 rows x 21651 columns]"
      ]
     },
     "execution_count": 51,
     "metadata": {},
     "output_type": "execute_result"
    }
   ],
   "source": [
    "X_train2"
   ]
  },
  {
   "cell_type": "markdown",
   "metadata": {},
   "source": [
    "Linear models"
   ]
  },
  {
   "cell_type": "code",
   "execution_count": 52,
   "metadata": {},
   "outputs": [
    {
     "name": "stdout",
     "output_type": "stream",
     "text": [
      "Training mean_squared_error: 0.0000\n",
      "Test mean_squared_error: 0.1145\n",
      "\n",
      "\n",
      "Training mean_absolute_error: 0.0003\n",
      "Test mean_absolute_error: 0.2490\n",
      "\n",
      "\n",
      "Training r_squared: 0.9997\n",
      "Test r_squared: -0.3536\n"
     ]
    },
    {
     "data": {
      "text/plain": [
       "0"
      ]
     },
     "execution_count": 52,
     "metadata": {},
     "output_type": "execute_result"
    }
   ],
   "source": [
    "# Linear regression\n",
    "\n",
    "# Instantiate a linear regressor object\n",
    "model_LR_advanced_1 = LinearRegression()\n",
    "\n",
    "# Fit the object on the training set\n",
    "model_LR_advanced_1.fit(X_train2, y_train)\n",
    "\n",
    "# Compute the model metrics\n",
    "train_mean_squared_error = mean_squared_error(y_true=y_train, y_pred=model_LR_advanced_1.predict(X_train2))\n",
    "test_mean_squared_error = mean_squared_error(y_true=y_test, y_pred=model_LR_advanced_1.predict(X_test2))\n",
    "print(f\"Training mean_squared_error: {train_mean_squared_error:.4f}\")\n",
    "print(f\"Test mean_squared_error: {test_mean_squared_error:.4f}\")\n",
    "\n",
    "print('\\n')\n",
    "train_mae = mean_absolute_error(y_true=y_train, y_pred=model_LR_advanced_1.predict(X_train2))\n",
    "test_mae = mean_absolute_error(y_true=y_test, y_pred=model_LR_advanced_1.predict(X_test2))\n",
    "print(f\"Training mean_absolute_error: {train_mae:.4f}\")\n",
    "print(f\"Test mean_absolute_error: {test_mae:.4f}\")\n",
    "\n",
    "print('\\n')\n",
    "train_r_squared = r2_score(y_true=y_train, y_pred=model_LR_advanced_1.predict(X_train2))\n",
    "test_r_squared = r2_score(y_true=y_test, y_pred=model_LR_advanced_1.predict(X_test2))\n",
    "print(f\"Training r_squared: {train_r_squared:.4f}\")\n",
    "print(f\"Test r_squared: {test_r_squared:.4f}\")\n",
    "\n",
    "del model_LR_advanced_1, train_mean_squared_error, test_mean_squared_error, train_mae, test_mae, train_r_squared, test_r_squared\n",
    "gc.collect()\n"
   ]
  },
  {
   "cell_type": "markdown",
   "metadata": {},
   "source": [
    "*The linear model based on the term frequency feature engineering suffers a lot from overfitting : the test mean_squared_error and mean_absolute_error are greater than those of the training set. Furthermore, we got a negative r-squared on the test set.*\n",
    "\n",
    "\n"
   ]
  },
  {
   "cell_type": "markdown",
   "metadata": {},
   "source": [
    "Non linear models"
   ]
  },
  {
   "cell_type": "code",
   "execution_count": 53,
   "metadata": {},
   "outputs": [],
   "source": [
    "# Instantiate a MinMaxScaler object\n",
    "Scaler = MinMaxScaler()\n",
    "\n",
    "# Apply the scaling on only the quantitative features (X_train2, and X_test2 are just about quantitative features)\n",
    "X_train2_scaled = Scaler.fit_transform(X_train2)\n",
    "X_test2_scaled = Scaler.transform(X_test2)\n",
    "\n",
    "del X_train2, X_test2, Scaler"
   ]
  },
  {
   "cell_type": "code",
   "execution_count": 54,
   "metadata": {},
   "outputs": [
    {
     "name": "stdout",
     "output_type": "stream",
     "text": [
      "Best Parameters: {'n_estimators': 50}\n",
      "Best mean_squared_error on the training set: 0.0803633598743558\n",
      "Test mean_squared_error: 0.0756\n",
      "Test mean_absolute_error: 0.2109\n",
      "Test r_squared: 0.1061\n"
     ]
    },
    {
     "data": {
      "text/plain": [
       "114"
      ]
     },
     "execution_count": 54,
     "metadata": {},
     "output_type": "execute_result"
    }
   ],
   "source": [
    "# Random Forest\n",
    "\n",
    "# Instantiate a random forest regressor object\n",
    "# Since the linear regression had suffered from overfitting, we try to prevent it a little in our random forest by having trees not too deep, and\n",
    "# not performing split on little samples\n",
    "model_RF_advanced_1 = RandomForestRegressor(random_state=123, max_depth=10, min_samples_split=20)\n",
    "\n",
    "# Define the grid used to optimize the random forest trees number\n",
    "param_grid = {\n",
    "    'n_estimators': [20, 50, 100]  # Number of trees in the forest\n",
    "}\n",
    "\n",
    "# A cross-validation will be done on the training set to choose the best hyperparameters, and the mean_squared_error is used to choose the best model\n",
    "grid_search = GridSearchCV(estimator=model_RF_advanced_1, param_grid=param_grid, cv=5, scoring='neg_mean_squared_error', n_jobs=-1)\n",
    "# neg_mean_squared_error because we want the model with the low mean_squared_error : by maximizing neg_mean_squared_error, we minimize mean_squared_error \n",
    "\n",
    "# Get the best model\n",
    "grid_search.fit(X_train2_scaled, y_train)\n",
    "best_params = grid_search.best_params_\n",
    "best_mean_squared_error = -grid_search.best_score_\n",
    "print(\"Best Parameters:\", best_params)\n",
    "print(\"Best mean_squared_error on the training set:\", best_mean_squared_error)\n",
    "\n",
    "# Evaluate the best model on the test set\n",
    "best_model_RF_advanced_1 = grid_search.best_estimator_\n",
    "test_mean_squared_error = mean_squared_error(y_true=y_test, y_pred=best_model_RF_advanced_1.predict(X_test2_scaled))\n",
    "test_mae = mean_absolute_error(y_true=y_test, y_pred=best_model_RF_advanced_1.predict(X_test2_scaled))\n",
    "test_r_squared = r2_score(y_true=y_test, y_pred=best_model_RF_advanced_1.predict(X_test2_scaled))\n",
    "\n",
    "print(f\"Test mean_squared_error: {test_mean_squared_error:.4f}\")\n",
    "print(f\"Test mean_absolute_error: {test_mae:.4f}\")\n",
    "print(f\"Test r_squared: {test_r_squared:.4f}\")\n",
    "\n",
    "del model_RF_advanced_1, test_mean_squared_error, test_mae, test_r_squared, best_model_RF_advanced_1, grid_search, best_params, best_mean_squared_error\n",
    "gc.collect()"
   ]
  },
  {
   "cell_type": "markdown",
   "metadata": {},
   "source": [
    "*Unlike the linear regression, the random forest doesn't seem to suffer also from overfitting: the test mean_sqared_error seems to be lower than the training set mean_squared_error. The term frequency feature engineering helps upgrade the r_squared on the test set from 9.43% to 10.47%.*"
   ]
  },
  {
   "cell_type": "code",
   "execution_count": 55,
   "metadata": {},
   "outputs": [
    {
     "name": "stdout",
     "output_type": "stream",
     "text": [
      "Best Parameters: {'learning_rate': 0.3}\n",
      "Best mean_squared_error on the training set: 0.07178554710930334\n",
      "Test mean_squared_error: 0.0662\n",
      "Test mean_absolute_error: 0.1958\n",
      "Test r_squared: 0.2176\n"
     ]
    },
    {
     "data": {
      "text/plain": [
       "68"
      ]
     },
     "execution_count": 55,
     "metadata": {},
     "output_type": "execute_result"
    }
   ],
   "source": [
    "# Xgboost\n",
    "\n",
    "# Instantiate an XGBoost regressor object\n",
    "model_XGB_advanced_1 = XGBRegressor(random_state=123, max_depth=10, n_estimators=50)\n",
    "\n",
    "# Define the grid used to optimize the XGBoost learning rate\n",
    "param_grid = {\n",
    "    'learning_rate': [0.01, 0.1, 0.3]  # Learning rate\n",
    "}\n",
    "\n",
    "# A cross-validation will be done on the training set to choose the best hyperparameters, and the mean_squared_error is used to choose the best model\n",
    "grid_search = GridSearchCV(estimator=model_XGB_advanced_1, param_grid=param_grid, cv=5, scoring='neg_mean_squared_error', n_jobs=-1)\n",
    "# neg_mean_squared_error because we want the model with the low mean_squared_error : by maximizing neg_mean_squared_error, we minimize mean_squared_error \n",
    "\n",
    "# Get the best model\n",
    "grid_search.fit(X_train2_scaled, y_train)\n",
    "best_params = grid_search.best_params_\n",
    "best_mean_squared_error = -grid_search.best_score_\n",
    "print(\"Best Parameters:\", best_params)\n",
    "print(\"Best mean_squared_error on the training set:\", best_mean_squared_error)\n",
    "\n",
    "# Evaluate the best model on the test set\n",
    "best_model_XGB_advanced_1 = grid_search.best_estimator_\n",
    "test_mean_squared_error = mean_squared_error(y_true=y_test, y_pred=best_model_XGB_advanced_1.predict(X_test2_scaled))\n",
    "test_mae = mean_absolute_error(y_true=y_test, y_pred=best_model_XGB_advanced_1.predict(X_test2_scaled))\n",
    "test_r_squared = r2_score(y_true=y_test, y_pred=best_model_XGB_advanced_1.predict(X_test2_scaled))\n",
    "\n",
    "print(f\"Test mean_squared_error: {test_mean_squared_error:.4f}\")\n",
    "print(f\"Test mean_absolute_error: {test_mae:.4f}\")\n",
    "print(f\"Test r_squared: {test_r_squared:.4f}\")\n",
    "\n",
    "del model_XGB_advanced_1, test_mean_squared_error, test_mae, test_r_squared, grid_search, best_params, best_mean_squared_error\n",
    "gc.collect()"
   ]
  },
  {
   "cell_type": "markdown",
   "metadata": {},
   "source": [
    "*Unlike the linear regression, the XGboost also doesn't seem to suffer also from overfitting: the test mean_sqared_error seems to be lower than the training set mean_squared_error. For this model, the term frequency feature engineering helps upgrade the r_squared on the test set from 9.55% to 21%.*"
   ]
  },
  {
   "cell_type": "markdown",
   "metadata": {},
   "source": [
    "                Conclusion:\n",
    "    The amount of quantitative features (at least 20000) we got after performing term frequency feature engineering didn't help the linear regression.\n",
    "    Only the random forest and Xgboost were able to perform well. The XGboost model improve the explained variance on the test set up to 20%."
   ]
  },
  {
   "cell_type": "code",
   "execution_count": 56,
   "metadata": {},
   "outputs": [
    {
     "data": {
      "text/plain": [
       "0"
      ]
     },
     "execution_count": 56,
     "metadata": {},
     "output_type": "execute_result"
    }
   ],
   "source": [
    "del X_train2_scaled, X_test2_scaled\n",
    "gc.collect()"
   ]
  },
  {
   "cell_type": "markdown",
   "metadata": {},
   "source": [
    "### 8.2. Advanced models based on BERT model feature engineering without applying some context to the text data"
   ]
  },
  {
   "cell_type": "markdown",
   "metadata": {},
   "source": [
    "Up until now, linear models (in our case linear regression) don't perform welll. At this step, we consider to work only with non linear models."
   ]
  },
  {
   "cell_type": "markdown",
   "metadata": {},
   "source": [
    "Random Forest"
   ]
  },
  {
   "cell_type": "code",
   "execution_count": 57,
   "metadata": {},
   "outputs": [
    {
     "name": "stdout",
     "output_type": "stream",
     "text": [
      "Best Parameters: {'n_estimators': 100}\n",
      "Best mean_squared_error on the training set: 0.07733642236960227\n",
      "Test mean_squared_error: 0.0721\n",
      "Test mean_absolute_error: 0.2036\n",
      "Test r_squared: 0.1470\n"
     ]
    },
    {
     "data": {
      "text/plain": [
       "114"
      ]
     },
     "execution_count": 57,
     "metadata": {},
     "output_type": "execute_result"
    }
   ],
   "source": [
    "# Random Forest\n",
    "\n",
    "# Instantiate a random forest regressor object based on some of the best hyperparameters found previously\n",
    "model_RF_advanced_2 = RandomForestRegressor(random_state=123, max_depth=10, min_samples_split=20)\n",
    "\n",
    "# Define the grid used to optimize the random forest trees number\n",
    "param_grid = {\n",
    "    'n_estimators': [20, 50, 100]  # Number of trees in the forest\n",
    "}\n",
    "\n",
    "# A cross-validation will done on the training set to choose the best hyperparameters, and the mean_squared_error is used to choose the best model\n",
    "grid_search = GridSearchCV(estimator=model_RF_advanced_2, param_grid=param_grid, cv=5, scoring='neg_mean_squared_error', n_jobs=-1)\n",
    "# neg_mean_squared_error because we want the model with the low mean_squared_error : by maximizing neg_mean_squared_error, we minimize mean_squared_error \n",
    "\n",
    "# Get the best model\n",
    "grid_search.fit(X_train3, y_train)\n",
    "best_params = grid_search.best_params_\n",
    "best_mean_squared_error = -grid_search.best_score_\n",
    "print(\"Best Parameters:\", best_params)\n",
    "print(\"Best mean_squared_error on the training set:\", best_mean_squared_error)\n",
    "\n",
    "# Evaluate the best model on the test set\n",
    "best_model_RF_advanced_2 = grid_search.best_estimator_\n",
    "test_mean_squared_error = mean_squared_error(y_true=y_test, y_pred=best_model_RF_advanced_2.predict(X_test3))\n",
    "test_mae = mean_absolute_error(y_true=y_test, y_pred=best_model_RF_advanced_2.predict(X_test3))\n",
    "test_r_squared = r2_score(y_true=y_test, y_pred=best_model_RF_advanced_2.predict(X_test3))\n",
    "\n",
    "print(f\"Test mean_squared_error: {test_mean_squared_error:.4f}\")\n",
    "print(f\"Test mean_absolute_error: {test_mae:.4f}\")\n",
    "print(f\"Test r_squared: {test_r_squared:.4f}\")\n",
    "\n",
    "del model_RF_advanced_2, test_mean_squared_error, test_mae, test_r_squared, grid_search, param_grid\n",
    "del best_params, best_mean_squared_error\n",
    "gc.collect()"
   ]
  },
  {
   "cell_type": "markdown",
   "metadata": {},
   "source": [
    "*Applying BERT model on the dataset improves the explained variance on the test set up to 14.7%. The test_mean_squared_error tends to be lower than the one of the training set, so the model doesn't suffer from overfitting.*"
   ]
  },
  {
   "cell_type": "markdown",
   "metadata": {},
   "source": [
    "XGboost"
   ]
  },
  {
   "cell_type": "code",
   "execution_count": 58,
   "metadata": {},
   "outputs": [
    {
     "name": "stdout",
     "output_type": "stream",
     "text": [
      "Best Parameters: {'learning_rate': 0.1}\n",
      "Best mean_squared_error on the training set: 0.07529830613180885\n",
      "Test mean_squared_error: 0.0713\n",
      "Test mean_absolute_error: 0.2019\n",
      "Test r_squared: 0.1564\n"
     ]
    },
    {
     "data": {
      "text/plain": [
       "68"
      ]
     },
     "execution_count": 58,
     "metadata": {},
     "output_type": "execute_result"
    }
   ],
   "source": [
    "# XGboost\n",
    "\n",
    "# Instantiate an XGBoost regressor object, based on the optimal number of trees obtained from the optimal random forest\n",
    "model_XGB_advanced_2 = XGBRegressor(random_state=123, max_depth=10, n_estimators=50)\n",
    "\n",
    "# Define the grid used to optimize the XGBoost learning rate\n",
    "param_grid = {\n",
    "    'learning_rate': [0.01, 0.1, 0.3]  # Learning rate\n",
    "}\n",
    "\n",
    "# A cross-validation will be done on the training set to choose the best hyperparameters, and the mean_squared_error is used to choose the best model\n",
    "grid_search = GridSearchCV(estimator=model_XGB_advanced_2, param_grid=param_grid, cv=5, scoring='neg_mean_squared_error', n_jobs=-1)\n",
    "# neg_mean_squared_error because we want the model with the low mean_squared_error : by maximizing neg_mean_squared_error, we minimize mean_squared_error \n",
    "\n",
    "# Get the best model\n",
    "grid_search.fit(X_train3, y_train)\n",
    "best_params = grid_search.best_params_\n",
    "best_mean_squared_error = -grid_search.best_score_\n",
    "print(\"Best Parameters:\", best_params)\n",
    "print(\"Best mean_squared_error on the training set:\", best_mean_squared_error)\n",
    "\n",
    "# Evaluate the best model on the test set\n",
    "best_model_XGB_advanced_2 = grid_search.best_estimator_\n",
    "test_mean_squared_error = mean_squared_error(y_true=y_test, y_pred=best_model_XGB_advanced_2.predict(X_test3))\n",
    "test_mae = mean_absolute_error(y_true=y_test, y_pred=best_model_XGB_advanced_2.predict(X_test3))\n",
    "test_r_squared = r2_score(y_true=y_test, y_pred=best_model_XGB_advanced_2.predict(X_test3))\n",
    "\n",
    "print(f\"Test mean_squared_error: {test_mean_squared_error:.4f}\")\n",
    "print(f\"Test mean_absolute_error: {test_mae:.4f}\")\n",
    "print(f\"Test r_squared: {test_r_squared:.4f}\")\n",
    "\n",
    "del model_XGB_advanced_2, test_mean_squared_error, test_mae, test_r_squared, best_model_XGB_advanced_2, grid_search, param_grid\n",
    "del best_params, best_mean_squared_error\n",
    "gc.collect()"
   ]
  },
  {
   "cell_type": "markdown",
   "metadata": {},
   "source": [
    "*The Xgboost doesn't suffer from overfitting. Even if his performance is still better than the random forest, the result obtained (its performance metrics) are much lower compared to the Xgboost used on the features engineered by the term frequency.*"
   ]
  },
  {
   "cell_type": "markdown",
   "metadata": {},
   "source": [
    "Neural Network"
   ]
  },
  {
   "cell_type": "code",
   "execution_count": 59,
   "metadata": {},
   "outputs": [
    {
     "name": "stdout",
     "output_type": "stream",
     "text": [
      "WARNING:tensorflow:From c:\\Users\\acoue\\OneDrive\\Desktop\\Rate\\RateMe\\.venv\\Lib\\site-packages\\keras\\src\\optimizers\\__init__.py:309: The name tf.train.Optimizer is deprecated. Please use tf.compat.v1.train.Optimizer instead.\n",
      "\n",
      "Epoch 1/5\n",
      "WARNING:tensorflow:From c:\\Users\\acoue\\OneDrive\\Desktop\\Rate\\RateMe\\.venv\\Lib\\site-packages\\keras\\src\\utils\\tf_utils.py:492: The name tf.ragged.RaggedTensorValue is deprecated. Please use tf.compat.v1.ragged.RaggedTensorValue instead.\n",
      "\n",
      "108/108 [==============================] - 1s 4ms/step - loss: 0.6393 - val_loss: 0.1025\n",
      "Epoch 2/5\n",
      "108/108 [==============================] - 0s 2ms/step - loss: 0.0840 - val_loss: 0.0991\n",
      "Epoch 3/5\n",
      "108/108 [==============================] - 0s 2ms/step - loss: 0.0806 - val_loss: 0.0954\n",
      "Epoch 4/5\n",
      "108/108 [==============================] - 0s 2ms/step - loss: 0.0772 - val_loss: 0.0935\n",
      "Epoch 5/5\n",
      "108/108 [==============================] - 0s 2ms/step - loss: 0.0757 - val_loss: 0.0920\n",
      "240/240 [==============================] - 0s 990us/step\n",
      "103/103 [==============================] - 0s 981us/step\n"
     ]
    }
   ],
   "source": [
    "# Neural Network\n",
    "\n",
    "# _____\n",
    "X_train_numerical = preprocessor.fit_transform(data3.loc[train_indexes, :][quantitative_features])\n",
    "X_test_numerical = preprocessor.transform(data3.loc[test_indexes, :][quantitative_features])\n",
    "\n",
    "# Build a combined model for text and numerical features\n",
    "input_text = Input(shape=(X_train_text_embeddings.shape[1],), name='text_input')\n",
    "input_numerical = Input(shape=(len(quantitative_features),), name='numerical_input')\n",
    "# _____\n",
    "text_branch = Dense(128, activation='relu')(input_text)\n",
    "numerical_branch = Dense(128, activation='relu')(input_numerical)\n",
    "# _____\n",
    "merged = Concatenate()([text_branch, numerical_branch])\n",
    "output = Dense(1, activation='linear')(merged)\n",
    "# _____\n",
    "model_NN = Model(inputs=[input_text, input_numerical], outputs=output)\n",
    "\n",
    "# Compile the model\n",
    "model_NN.compile(optimizer='adam', loss='mean_squared_error')\n",
    "\n",
    "# Train the model\n",
    "model_NN.fit([X_train_text_embeddings, X_train_numerical], y_train, epochs=5, batch_size=64, validation_split=0.1)\n",
    "\n",
    "# Make predictions on the training, and test sets\n",
    "predictions_on_training = model_NN.predict([X_train_text_embeddings, X_train_numerical])\n",
    "predictions_on_test = model_NN.predict([X_test_text_embeddings, X_test_numerical])\n",
    "\n",
    "# Evaluate the model\n",
    "\n",
    "mae_train = mean_absolute_error(y_true=y_train, y_pred=predictions_on_training)\n",
    "mae_test = mean_absolute_error(y_true=y_test, y_pred=predictions_on_test)\n",
    "\n",
    "mse_train = mean_squared_error(y_true=y_train, y_pred=predictions_on_training)\n",
    "mse_test = mean_squared_error(y_true=y_test, y_pred=predictions_on_test)\n",
    "\n",
    "r2_test = r2_score(y_true=y_test, y_pred=predictions_on_test)\n"
   ]
  },
  {
   "cell_type": "code",
   "execution_count": 60,
   "metadata": {},
   "outputs": [
    {
     "name": "stdout",
     "output_type": "stream",
     "text": [
      "Training Mean Absolute Error: 0.20638012855992774\n",
      "Test Mean Absolute Error: 0.2104907232993718\n",
      "\n",
      "\n",
      "Training Mean Squared Error: 0.0760164666512687\n",
      "Test Mean Squared Error: 0.07626215504353569\n",
      "\n",
      "\n",
      "Test R-squared: 0.09820822909173421\n"
     ]
    }
   ],
   "source": [
    "print(f'Training Mean Absolute Error: {mae_train}')\n",
    "print(f'Test Mean Absolute Error: {mae_test}')\n",
    "print('\\n')\n",
    "print(f'Training Mean Squared Error: {mse_train}')\n",
    "print(f'Test Mean Squared Error: {mse_test}')\n",
    "print('\\n')\n",
    "print(f'Test R-squared: {r2_test}')"
   ]
  },
  {
   "cell_type": "code",
   "execution_count": 62,
   "metadata": {},
   "outputs": [],
   "source": [
    "del mse_test, mae_test, mse_train, mae_train, data3, preprocessor, r2_test, input_text, input_numerical, output\n",
    "del text_branch, tokenizer, predictions_on_training, predictions_on_test, numerical_branch, model_NN, merged"
   ]
  },
  {
   "cell_type": "markdown",
   "metadata": {},
   "source": [
    "*The deep learning model, even if its has a value of r_squared on the test set up around 10%, it seems it suffers a little bit from an overfitting when comparing the mean_absolute_error, mean_squared_error of the traning and test sets. Another fact is that the model results seems to vary.*"
   ]
  },
  {
   "cell_type": "markdown",
   "metadata": {},
   "source": [
    "### 8.3. Advanced models based on BERT model feature engineering combined with some context to the text data"
   ]
  },
  {
   "cell_type": "markdown",
   "metadata": {},
   "source": [
    "Random Forest"
   ]
  },
  {
   "cell_type": "code",
   "execution_count": 127,
   "metadata": {},
   "outputs": [
    {
     "name": "stdout",
     "output_type": "stream",
     "text": [
      "Best Parameters: {'n_estimators': 100}\n",
      "Best mean_squared_error on the training set: 0.07944229809527895\n",
      "Test mean_squared_error: 0.0760\n",
      "Test mean_absolute_error: 0.2110\n",
      "Test r_squared: 0.1010\n"
     ]
    },
    {
     "data": {
      "text/plain": [
       "2080"
      ]
     },
     "execution_count": 127,
     "metadata": {},
     "output_type": "execute_result"
    }
   ],
   "source": [
    "# Random Forest\n",
    "\n",
    "# Instantiate a random forest regressor object based on some of the best hyperparameters found previously\n",
    "model_RF_advanced_3 = RandomForestRegressor(random_state=123, max_depth=10, min_samples_split=20)\n",
    "\n",
    "# Define the grid used to optimize the random forest trees number\n",
    "param_grid = {\n",
    "    'n_estimators': [20, 50, 100]  # Number of trees in the forest\n",
    "}\n",
    "\n",
    "# A cross-validation will done on the training set to choose the best hyperparameters, and the mean_squared_error is used to choose the best model\n",
    "grid_search = GridSearchCV(estimator=model_RF_advanced_3, param_grid=param_grid, cv=5, scoring='neg_mean_squared_error', n_jobs=-1)\n",
    "# neg_mean_squared_error because we want the model with the low mean_squared_error : by maximizing neg_mean_squared_error, we minimize mean_squared_error \n",
    "\n",
    "# Get the best model\n",
    "grid_search.fit(X_train4, y_train)\n",
    "best_params = grid_search.best_params_\n",
    "best_mean_squared_error = -grid_search.best_score_\n",
    "print(\"Best Parameters:\", best_params)\n",
    "print(\"Best mean_squared_error on the training set:\", best_mean_squared_error)\n",
    "\n",
    "# Evaluate the best model on the test set\n",
    "best_model_RF_advanced_3 = grid_search.best_estimator_\n",
    "test_mean_squared_error = mean_squared_error(y_true=y_test, y_pred=best_model_RF_advanced_3.predict(X_test4))\n",
    "test_mae = mean_absolute_error(y_true=y_test, y_pred=best_model_RF_advanced_3.predict(X_test4))\n",
    "test_r_squared = r2_score(y_true=y_test, y_pred=best_model_RF_advanced_3.predict(X_test4))\n",
    "\n",
    "print(f\"Test mean_squared_error: {test_mean_squared_error:.4f}\")\n",
    "print(f\"Test mean_absolute_error: {test_mae:.4f}\")\n",
    "print(f\"Test r_squared: {test_r_squared:.4f}\")\n",
    "\n",
    "del model_RF_advanced_3, test_mean_squared_error, test_mae, test_r_squared, grid_search, param_grid\n",
    "del best_params, best_mean_squared_error\n",
    "gc.collect()"
   ]
  },
  {
   "cell_type": "markdown",
   "metadata": {},
   "source": [
    "The ran"
   ]
  },
  {
   "cell_type": "markdown",
   "metadata": {},
   "source": [
    "XGboost"
   ]
  },
  {
   "cell_type": "code",
   "execution_count": 128,
   "metadata": {},
   "outputs": [
    {
     "name": "stdout",
     "output_type": "stream",
     "text": [
      "Best Parameters: {'learning_rate': 0.1}\n",
      "Best mean_squared_error on the training set: 0.07720097610424519\n",
      "Test mean_squared_error: 0.0757\n",
      "Test mean_absolute_error: 0.2091\n",
      "Test r_squared: 0.1049\n"
     ]
    },
    {
     "data": {
      "text/plain": [
       "68"
      ]
     },
     "execution_count": 128,
     "metadata": {},
     "output_type": "execute_result"
    }
   ],
   "source": [
    "# XGBoost\n",
    "\n",
    "# Instantiate an XGBoost regressor object, based on the optimal number of trees obtained from the optimal random forest\n",
    "model_XGB_advanced_3 = XGBRegressor(random_state=123, max_depth=10, n_estimators=50)\n",
    "\n",
    "# Define the grid used to optimize the XGBoost learning rate\n",
    "param_grid = {\n",
    "    'learning_rate': [0.01, 0.1, 0.3]  # Learning rate\n",
    "}\n",
    "\n",
    "# A cross-validation will be done on the training set to choose the best hyperparameters, and the mean_squared_error is used to choose the best model\n",
    "grid_search = GridSearchCV(estimator=model_XGB_advanced_3, param_grid=param_grid, cv=5, scoring='neg_mean_squared_error', n_jobs=-1)\n",
    "# neg_mean_squared_error because we want the model with the low mean_squared_error : by maximizing neg_mean_squared_error, we minimize mean_squared_error \n",
    "\n",
    "# Get the best model\n",
    "grid_search.fit(X_train4, y_train)\n",
    "best_params = grid_search.best_params_\n",
    "best_mean_squared_error = -grid_search.best_score_\n",
    "print(\"Best Parameters:\", best_params)\n",
    "print(\"Best mean_squared_error on the training set:\", best_mean_squared_error)\n",
    "\n",
    "# Evaluate the best model on the test set\n",
    "best_model_XGB_advanced_3 = grid_search.best_estimator_\n",
    "test_mean_squared_error = mean_squared_error(y_true=y_test, y_pred=best_model_XGB_advanced_3.predict(X_test4))\n",
    "test_mae = mean_absolute_error(y_true=y_test, y_pred=best_model_XGB_advanced_3.predict(X_test4))\n",
    "test_r_squared = r2_score(y_true=y_test, y_pred=best_model_XGB_advanced_3.predict(X_test4))\n",
    "\n",
    "print(f\"Test mean_squared_error: {test_mean_squared_error:.4f}\")\n",
    "print(f\"Test mean_absolute_error: {test_mae:.4f}\")\n",
    "print(f\"Test r_squared: {test_r_squared:.4f}\")\n",
    "\n",
    "del model_XGB_advanced_3, test_mean_squared_error, test_mae, test_r_squared, grid_search, param_grid\n",
    "del best_params, best_mean_squared_error\n",
    "gc.collect()"
   ]
  },
  {
   "cell_type": "markdown",
   "metadata": {},
   "source": []
  },
  {
   "cell_type": "markdown",
   "metadata": {},
   "source": [
    "Neural Network"
   ]
  },
  {
   "cell_type": "code",
   "execution_count": 129,
   "metadata": {},
   "outputs": [
    {
     "name": "stdout",
     "output_type": "stream",
     "text": [
      "WARNING:tensorflow:From c:\\Users\\acoue\\OneDrive\\Desktop\\Rate\\RateMe\\.venv\\Lib\\site-packages\\keras\\src\\optimizers\\__init__.py:309: The name tf.train.Optimizer is deprecated. Please use tf.compat.v1.train.Optimizer instead.\n",
      "\n",
      "Epoch 1/5\n",
      "WARNING:tensorflow:From c:\\Users\\acoue\\OneDrive\\Desktop\\Rate\\RateMe\\.venv\\Lib\\site-packages\\keras\\src\\utils\\tf_utils.py:492: The name tf.ragged.RaggedTensorValue is deprecated. Please use tf.compat.v1.ragged.RaggedTensorValue instead.\n",
      "\n",
      "108/108 [==============================] - 2s 5ms/step - loss: 0.5801 - val_loss: 0.1047\n",
      "Epoch 2/5\n",
      "108/108 [==============================] - 0s 3ms/step - loss: 0.0862 - val_loss: 0.1067\n",
      "Epoch 3/5\n",
      "108/108 [==============================] - 0s 3ms/step - loss: 0.0846 - val_loss: 0.0994\n",
      "Epoch 4/5\n",
      "108/108 [==============================] - 0s 3ms/step - loss: 0.0800 - val_loss: 0.0965\n",
      "Epoch 5/5\n",
      "108/108 [==============================] - 0s 3ms/step - loss: 0.0783 - val_loss: 0.0968\n",
      "240/240 [==============================] - 0s 1ms/step\n",
      "103/103 [==============================] - 0s 1ms/step\n"
     ]
    }
   ],
   "source": [
    "# Neural Network\n",
    "\n",
    "# Build a combined model for text and numerical features\n",
    "input_text = Input(shape=(X_train_text_embeddings2.shape[1],), name='text_input')\n",
    "# _____\n",
    "text_branch = Dense(128, activation='relu')(input_text)\n",
    "\n",
    "# _____\n",
    "merged = Concatenate()([text_branch])\n",
    "output = Dense(1, activation='linear')(merged)\n",
    "\n",
    "# _____\n",
    "model_NN = Model(inputs=[input_text], outputs=output)\n",
    "\n",
    "# Compile the model\n",
    "model_NN.compile(optimizer='adam', loss='mean_squared_error')\n",
    "\n",
    "# Train the model\n",
    "model_NN.fit([X_train_text_embeddings2], y_train, epochs=5, batch_size=64, validation_split=0.1)\n",
    "\n",
    "# Make predictions on the training, and test sets\n",
    "predictions_on_training = model_NN.predict([X_train_text_embeddings2])\n",
    "predictions_on_test = model_NN.predict([X_test_text_embeddings2])\n",
    "\n",
    "# Evaluate the model\n",
    "\n",
    "mae_train = mean_absolute_error(y_true=y_train, y_pred=predictions_on_training)\n",
    "mae_test = mean_absolute_error(y_true=y_test, y_pred=predictions_on_test)\n",
    "\n",
    "mse_train = mean_squared_error(y_true=y_train, y_pred=predictions_on_training)\n",
    "mse_test = mean_squared_error(y_true=y_test, y_pred=predictions_on_test)\n",
    "\n",
    "r2_test = r2_score(y_true=y_test, y_pred=predictions_on_test)"
   ]
  },
  {
   "cell_type": "code",
   "execution_count": 130,
   "metadata": {},
   "outputs": [
    {
     "name": "stdout",
     "output_type": "stream",
     "text": [
      "Training Mean Absolute Error: 0.2167759959370787\n",
      "Test Mean Absolute Error: 0.22173845734370287\n",
      "\n",
      "\n",
      "Training Mean Squared Error: 0.08033745894016449\n",
      "Test Mean Squared Error: 0.08178048384847382\n",
      "\n",
      "\n",
      "Test R-squared: 0.03295458522842609\n"
     ]
    }
   ],
   "source": [
    "print(f'Training Mean Absolute Error: {mae_train}')\n",
    "print(f'Test Mean Absolute Error: {mae_test}')\n",
    "print('\\n')\n",
    "print(f'Training Mean Squared Error: {mse_train}')\n",
    "print(f'Test Mean Squared Error: {mse_test}')\n",
    "print('\\n')\n",
    "print(f'Test R-squared: {r2_test}')"
   ]
  },
  {
   "cell_type": "code",
   "execution_count": null,
   "metadata": {},
   "outputs": [],
   "source": [
    "del mse_test, mae_test, mse_train, mae_train, r2_test, input_text, output\n",
    "del text_branch, predictions_on_training, predictions_on_test, model_NN, merged"
   ]
  },
  {
   "cell_type": "markdown",
   "metadata": {},
   "source": []
  },
  {
   "cell_type": "code",
   "execution_count": 94,
   "metadata": {},
   "outputs": [],
   "source": [
    "# %reset -f"
   ]
  }
 ],
 "metadata": {
  "kernelspec": {
   "display_name": "base",
   "language": "python",
   "name": "python3"
  },
  "language_info": {
   "codemirror_mode": {
    "name": "ipython",
    "version": 3
   },
   "file_extension": ".py",
   "mimetype": "text/x-python",
   "name": "python",
   "nbconvert_exporter": "python",
   "pygments_lexer": "ipython3",
   "version": "3.11.0"
  }
 },
 "nbformat": 4,
 "nbformat_minor": 2
}
